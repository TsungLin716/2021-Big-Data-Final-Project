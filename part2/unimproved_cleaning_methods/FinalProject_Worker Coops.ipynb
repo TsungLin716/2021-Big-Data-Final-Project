{
 "cells": [
  {
   "cell_type": "markdown",
   "metadata": {
    "id": "LIlCvo3t9Y6K"
   },
   "source": [
    "# Group 11: DOB Job Application Filings - Data Profiling and Data Cleaning\n",
    "Team members: Peng-Yuan Chen (pc2973), Chun-Yen Liou (cyl625), Tsung-Lin Yang (ty2065)\n",
    "\n",
    "In the following we perform the data profiling and data cleaning on the dataset of [DOB Job Application Filings](https://data.cityofnewyork.us/Housing-Development/DOB-Job-Application-Filings/ic3t-wcy2).\n",
    "\n",
    "This dataset includes all the job applications submitted to Department of Buildings (DOB) through the Borough Offices, through eFiling, or through the HUB. It has a \"Latest Action Date\" since January 1, 2000. \n",
    "\n",
    "The dataset consists of over 1.77 million rows and the data file is about 1 GB in size. The dataset is available for download via the Socrata Open Data API (SODA)."
   ]
  },
  {
   "cell_type": "code",
   "execution_count": 50,
   "metadata": {
    "colab": {
     "base_uri": "https://localhost:8080/"
    },
    "id": "lDfChwnf_mnX",
    "outputId": "9b6a7473-a2c5-4c2f-80da-ce8ecf41ce70"
   },
   "outputs": [
    {
     "name": "stdout",
     "output_type": "stream",
     "text": [
      "Requirement already satisfied: openclean_notebook in /Library/Frameworks/Python.framework/Versions/3.9/lib/python3.9/site-packages (0.1.7)\n",
      "Requirement already satisfied: openclean-core>=0.4.0 in /Library/Frameworks/Python.framework/Versions/3.9/lib/python3.9/site-packages (from openclean_notebook) (0.4.1)\n",
      "Requirement already satisfied: future in /Library/Frameworks/Python.framework/Versions/3.9/lib/python3.9/site-packages (from openclean_notebook) (0.18.2)\n",
      "Requirement already satisfied: datamart-profiler==0.9 in /Library/Frameworks/Python.framework/Versions/3.9/lib/python3.9/site-packages (from openclean_notebook) (0.9)\n",
      "Requirement already satisfied: jsonschema==3.2.0 in /Library/Frameworks/Python.framework/Versions/3.9/lib/python3.9/site-packages (from openclean_notebook) (3.2.0)\n",
      "Requirement already satisfied: datamart-geo==0.2.1 in /Library/Frameworks/Python.framework/Versions/3.9/lib/python3.9/site-packages (from datamart-profiler==0.9->openclean_notebook) (0.2.1)\n",
      "Requirement already satisfied: pandas in /Library/Frameworks/Python.framework/Versions/3.9/lib/python3.9/site-packages (from datamart-profiler==0.9->openclean_notebook) (1.3.4)\n",
      "Requirement already satisfied: requests in /Library/Frameworks/Python.framework/Versions/3.9/lib/python3.9/site-packages (from datamart-profiler==0.9->openclean_notebook) (2.26.0)\n",
      "Requirement already satisfied: scikit-learn<0.24,>=0.22 in /Library/Frameworks/Python.framework/Versions/3.9/lib/python3.9/site-packages (from datamart-profiler==0.9->openclean_notebook) (0.23.2)\n",
      "Requirement already satisfied: numpy in /Library/Frameworks/Python.framework/Versions/3.9/lib/python3.9/site-packages (from datamart-profiler==0.9->openclean_notebook) (1.21.4)\n",
      "Requirement already satisfied: python-dateutil in /Users/yangzonglin/Library/Python/3.9/lib/python/site-packages (from datamart-profiler==0.9->openclean_notebook) (2.8.2)\n",
      "Requirement already satisfied: prometheus-client in /Library/Frameworks/Python.framework/Versions/3.9/lib/python3.9/site-packages (from datamart-profiler==0.9->openclean_notebook) (0.12.0)\n",
      "Requirement already satisfied: regex in /Library/Frameworks/Python.framework/Versions/3.9/lib/python3.9/site-packages (from datamart-profiler==0.9->openclean_notebook) (2021.11.10)\n",
      "Requirement already satisfied: pyrsistent>=0.14.0 in /Library/Frameworks/Python.framework/Versions/3.9/lib/python3.9/site-packages (from jsonschema==3.2.0->openclean_notebook) (0.18.0)\n",
      "Requirement already satisfied: attrs>=17.4.0 in /Library/Frameworks/Python.framework/Versions/3.9/lib/python3.9/site-packages (from jsonschema==3.2.0->openclean_notebook) (21.2.0)\n",
      "Requirement already satisfied: setuptools in /Library/Frameworks/Python.framework/Versions/3.9/lib/python3.9/site-packages (from jsonschema==3.2.0->openclean_notebook) (57.4.0)\n",
      "Requirement already satisfied: six>=1.11.0 in /Users/yangzonglin/Library/Python/3.9/lib/python/site-packages (from jsonschema==3.2.0->openclean_notebook) (1.16.0)\n",
      "Requirement already satisfied: appdirs>=1.4.4 in /Library/Frameworks/Python.framework/Versions/3.9/lib/python3.9/site-packages (from openclean-core>=0.4.0->openclean_notebook) (1.4.4)\n",
      "Requirement already satisfied: refdata>=0.2.0 in /Library/Frameworks/Python.framework/Versions/3.9/lib/python3.9/site-packages (from openclean-core>=0.4.0->openclean_notebook) (0.2.0)\n",
      "Requirement already satisfied: scipy in /Library/Frameworks/Python.framework/Versions/3.9/lib/python3.9/site-packages (from openclean-core>=0.4.0->openclean_notebook) (1.7.2)\n",
      "Requirement already satisfied: flowserv-core>=0.8.0 in /Library/Frameworks/Python.framework/Versions/3.9/lib/python3.9/site-packages (from openclean-core>=0.4.0->openclean_notebook) (0.9.2)\n",
      "Requirement already satisfied: dill in /Library/Frameworks/Python.framework/Versions/3.9/lib/python3.9/site-packages (from openclean-core>=0.4.0->openclean_notebook) (0.3.4)\n",
      "Requirement already satisfied: histore>=0.4.0 in /Library/Frameworks/Python.framework/Versions/3.9/lib/python3.9/site-packages (from openclean-core>=0.4.0->openclean_notebook) (0.4.1)\n",
      "Requirement already satisfied: jellyfish in /Library/Frameworks/Python.framework/Versions/3.9/lib/python3.9/site-packages (from openclean-core>=0.4.0->openclean_notebook) (0.8.9)\n",
      "Requirement already satisfied: pyyaml>=5.1 in /Library/Frameworks/Python.framework/Versions/3.9/lib/python3.9/site-packages (from flowserv-core>=0.8.0->openclean-core>=0.4.0->openclean_notebook) (5.4.1)\n",
      "Requirement already satisfied: passlib in /Library/Frameworks/Python.framework/Versions/3.9/lib/python3.9/site-packages (from flowserv-core>=0.8.0->openclean-core>=0.4.0->openclean_notebook) (1.7.4)\n",
      "Requirement already satisfied: SQLAlchemy>=1.3.18 in /Library/Frameworks/Python.framework/Versions/3.9/lib/python3.9/site-packages (from flowserv-core>=0.8.0->openclean-core>=0.4.0->openclean_notebook) (1.4.27)\n",
      "Requirement already satisfied: Click in /Library/Frameworks/Python.framework/Versions/3.9/lib/python3.9/site-packages (from flowserv-core>=0.8.0->openclean-core>=0.4.0->openclean_notebook) (8.0.3)\n",
      "Requirement already satisfied: pyyaml-include in /Library/Frameworks/Python.framework/Versions/3.9/lib/python3.9/site-packages (from flowserv-core>=0.8.0->openclean-core>=0.4.0->openclean_notebook) (1.2.post2)\n",
      "Requirement already satisfied: gitpython in /Library/Frameworks/Python.framework/Versions/3.9/lib/python3.9/site-packages (from flowserv-core>=0.8.0->openclean-core>=0.4.0->openclean_notebook) (3.1.24)\n",
      "Requirement already satisfied: paramiko in /Library/Frameworks/Python.framework/Versions/3.9/lib/python3.9/site-packages (from flowserv-core>=0.8.0->openclean-core>=0.4.0->openclean_notebook) (2.8.0)\n",
      "Requirement already satisfied: psutil in /Library/Frameworks/Python.framework/Versions/3.9/lib/python3.9/site-packages (from histore>=0.4.0->openclean-core>=0.4.0->openclean_notebook) (5.8.0)\n",
      "Requirement already satisfied: pytz>=2017.3 in /Library/Frameworks/Python.framework/Versions/3.9/lib/python3.9/site-packages (from pandas->datamart-profiler==0.9->openclean_notebook) (2021.3)\n",
      "Requirement already satisfied: datasize>=1.0.0 in /Library/Frameworks/Python.framework/Versions/3.9/lib/python3.9/site-packages (from refdata>=0.2.0->openclean-core>=0.4.0->openclean_notebook) (1.0.0)\n",
      "Requirement already satisfied: tableprint in /Library/Frameworks/Python.framework/Versions/3.9/lib/python3.9/site-packages (from refdata>=0.2.0->openclean-core>=0.4.0->openclean_notebook) (0.9.1)\n",
      "Requirement already satisfied: pooch>=1.3.0 in /Library/Frameworks/Python.framework/Versions/3.9/lib/python3.9/site-packages (from refdata>=0.2.0->openclean-core>=0.4.0->openclean_notebook) (1.5.2)\n",
      "Requirement already satisfied: packaging in /Library/Frameworks/Python.framework/Versions/3.9/lib/python3.9/site-packages (from pooch>=1.3.0->refdata>=0.2.0->openclean-core>=0.4.0->openclean_notebook) (21.3)\n",
      "Requirement already satisfied: threadpoolctl>=2.0.0 in /Library/Frameworks/Python.framework/Versions/3.9/lib/python3.9/site-packages (from scikit-learn<0.24,>=0.22->datamart-profiler==0.9->openclean_notebook) (3.0.0)\n",
      "Requirement already satisfied: joblib>=0.11 in /Library/Frameworks/Python.framework/Versions/3.9/lib/python3.9/site-packages (from scikit-learn<0.24,>=0.22->datamart-profiler==0.9->openclean_notebook) (1.1.0)\n",
      "Requirement already satisfied: greenlet!=0.4.17 in /Library/Frameworks/Python.framework/Versions/3.9/lib/python3.9/site-packages (from SQLAlchemy>=1.3.18->flowserv-core>=0.8.0->openclean-core>=0.4.0->openclean_notebook) (1.1.2)\n",
      "Requirement already satisfied: gitdb<5,>=4.0.1 in /Library/Frameworks/Python.framework/Versions/3.9/lib/python3.9/site-packages (from gitpython->flowserv-core>=0.8.0->openclean-core>=0.4.0->openclean_notebook) (4.0.9)\n",
      "Requirement already satisfied: typing-extensions>=3.7.4.3 in /Library/Frameworks/Python.framework/Versions/3.9/lib/python3.9/site-packages (from gitpython->flowserv-core>=0.8.0->openclean-core>=0.4.0->openclean_notebook) (4.0.0)\n",
      "Requirement already satisfied: smmap<6,>=3.0.1 in /Library/Frameworks/Python.framework/Versions/3.9/lib/python3.9/site-packages (from gitdb<5,>=4.0.1->gitpython->flowserv-core>=0.8.0->openclean-core>=0.4.0->openclean_notebook) (5.0.0)\n",
      "Requirement already satisfied: pyparsing!=3.0.5,>=2.0.2 in /Library/Frameworks/Python.framework/Versions/3.9/lib/python3.9/site-packages (from packaging->pooch>=1.3.0->refdata>=0.2.0->openclean-core>=0.4.0->openclean_notebook) (3.0.6)\n",
      "Requirement already satisfied: pynacl>=1.0.1 in /Library/Frameworks/Python.framework/Versions/3.9/lib/python3.9/site-packages (from paramiko->flowserv-core>=0.8.0->openclean-core>=0.4.0->openclean_notebook) (1.4.0)\n",
      "Requirement already satisfied: cryptography>=2.5 in /Library/Frameworks/Python.framework/Versions/3.9/lib/python3.9/site-packages (from paramiko->flowserv-core>=0.8.0->openclean-core>=0.4.0->openclean_notebook) (35.0.0)\n",
      "Requirement already satisfied: bcrypt>=3.1.3 in /Library/Frameworks/Python.framework/Versions/3.9/lib/python3.9/site-packages (from paramiko->flowserv-core>=0.8.0->openclean-core>=0.4.0->openclean_notebook) (3.2.0)\n",
      "Requirement already satisfied: cffi>=1.1 in /Library/Frameworks/Python.framework/Versions/3.9/lib/python3.9/site-packages (from bcrypt>=3.1.3->paramiko->flowserv-core>=0.8.0->openclean-core>=0.4.0->openclean_notebook) (1.15.0)\n"
     ]
    },
    {
     "name": "stdout",
     "output_type": "stream",
     "text": [
      "Requirement already satisfied: pycparser in /Library/Frameworks/Python.framework/Versions/3.9/lib/python3.9/site-packages (from cffi>=1.1->bcrypt>=3.1.3->paramiko->flowserv-core>=0.8.0->openclean-core>=0.4.0->openclean_notebook) (2.20)\n",
      "Requirement already satisfied: charset-normalizer~=2.0.0 in /Library/Frameworks/Python.framework/Versions/3.9/lib/python3.9/site-packages (from requests->datamart-profiler==0.9->openclean_notebook) (2.0.7)\n",
      "Requirement already satisfied: idna<4,>=2.5 in /Library/Frameworks/Python.framework/Versions/3.9/lib/python3.9/site-packages (from requests->datamart-profiler==0.9->openclean_notebook) (3.3)\n",
      "Requirement already satisfied: urllib3<1.27,>=1.21.1 in /Users/yangzonglin/Library/Python/3.9/lib/python/site-packages (from requests->datamart-profiler==0.9->openclean_notebook) (1.26.6)\n",
      "Requirement already satisfied: certifi>=2017.4.17 in /Library/Frameworks/Python.framework/Versions/3.9/lib/python3.9/site-packages (from requests->datamart-profiler==0.9->openclean_notebook) (2021.10.8)\n",
      "Requirement already satisfied: wcwidth in /Library/Frameworks/Python.framework/Versions/3.9/lib/python3.9/site-packages (from tableprint->refdata>=0.2.0->openclean-core>=0.4.0->openclean_notebook) (0.2.5)\n",
      "\u001b[33mWARNING: You are using pip version 21.2.4; however, version 21.3.1 is available.\n",
      "You should consider upgrading via the '/Library/Frameworks/Python.framework/Versions/3.9/bin/python3 -m pip install --upgrade pip' command.\u001b[0m\n",
      "Requirement already satisfied: openclean in /Library/Frameworks/Python.framework/Versions/3.9/lib/python3.9/site-packages (0.2.1)\n",
      "Requirement already satisfied: openclean-core==0.4.1 in /Library/Frameworks/Python.framework/Versions/3.9/lib/python3.9/site-packages (from openclean) (0.4.1)\n",
      "Requirement already satisfied: future in /Library/Frameworks/Python.framework/Versions/3.9/lib/python3.9/site-packages (from openclean-core==0.4.1->openclean) (0.18.2)\n",
      "Requirement already satisfied: histore>=0.4.0 in /Library/Frameworks/Python.framework/Versions/3.9/lib/python3.9/site-packages (from openclean-core==0.4.1->openclean) (0.4.1)\n",
      "Requirement already satisfied: dill in /Library/Frameworks/Python.framework/Versions/3.9/lib/python3.9/site-packages (from openclean-core==0.4.1->openclean) (0.3.4)\n",
      "Requirement already satisfied: scikit-learn in /Library/Frameworks/Python.framework/Versions/3.9/lib/python3.9/site-packages (from openclean-core==0.4.1->openclean) (0.23.2)\n",
      "Requirement already satisfied: jellyfish in /Library/Frameworks/Python.framework/Versions/3.9/lib/python3.9/site-packages (from openclean-core==0.4.1->openclean) (0.8.9)\n",
      "Requirement already satisfied: pandas>=1.0.0 in /Library/Frameworks/Python.framework/Versions/3.9/lib/python3.9/site-packages (from openclean-core==0.4.1->openclean) (1.3.4)\n",
      "Requirement already satisfied: python-dateutil in /Users/yangzonglin/Library/Python/3.9/lib/python/site-packages (from openclean-core==0.4.1->openclean) (2.8.2)\n",
      "Requirement already satisfied: jsonschema>=3.2.0 in /Library/Frameworks/Python.framework/Versions/3.9/lib/python3.9/site-packages (from openclean-core==0.4.1->openclean) (3.2.0)\n",
      "Requirement already satisfied: refdata>=0.2.0 in /Library/Frameworks/Python.framework/Versions/3.9/lib/python3.9/site-packages (from openclean-core==0.4.1->openclean) (0.2.0)\n",
      "Requirement already satisfied: requests in /Library/Frameworks/Python.framework/Versions/3.9/lib/python3.9/site-packages (from openclean-core==0.4.1->openclean) (2.26.0)\n",
      "Requirement already satisfied: appdirs>=1.4.4 in /Library/Frameworks/Python.framework/Versions/3.9/lib/python3.9/site-packages (from openclean-core==0.4.1->openclean) (1.4.4)\n",
      "Requirement already satisfied: scipy in /Library/Frameworks/Python.framework/Versions/3.9/lib/python3.9/site-packages (from openclean-core==0.4.1->openclean) (1.7.2)\n",
      "Requirement already satisfied: flowserv-core>=0.8.0 in /Library/Frameworks/Python.framework/Versions/3.9/lib/python3.9/site-packages (from openclean-core==0.4.1->openclean) (0.9.2)\n",
      "Requirement already satisfied: Click in /Library/Frameworks/Python.framework/Versions/3.9/lib/python3.9/site-packages (from flowserv-core>=0.8.0->openclean-core==0.4.1->openclean) (8.0.3)\n",
      "Requirement already satisfied: paramiko in /Library/Frameworks/Python.framework/Versions/3.9/lib/python3.9/site-packages (from flowserv-core>=0.8.0->openclean-core==0.4.1->openclean) (2.8.0)\n",
      "Requirement already satisfied: pyyaml>=5.1 in /Library/Frameworks/Python.framework/Versions/3.9/lib/python3.9/site-packages (from flowserv-core>=0.8.0->openclean-core==0.4.1->openclean) (5.4.1)\n",
      "Requirement already satisfied: passlib in /Library/Frameworks/Python.framework/Versions/3.9/lib/python3.9/site-packages (from flowserv-core>=0.8.0->openclean-core==0.4.1->openclean) (1.7.4)\n",
      "Requirement already satisfied: SQLAlchemy>=1.3.18 in /Library/Frameworks/Python.framework/Versions/3.9/lib/python3.9/site-packages (from flowserv-core>=0.8.0->openclean-core==0.4.1->openclean) (1.4.27)\n",
      "Requirement already satisfied: pyyaml-include in /Library/Frameworks/Python.framework/Versions/3.9/lib/python3.9/site-packages (from flowserv-core>=0.8.0->openclean-core==0.4.1->openclean) (1.2.post2)\n",
      "Requirement already satisfied: gitpython in /Library/Frameworks/Python.framework/Versions/3.9/lib/python3.9/site-packages (from flowserv-core>=0.8.0->openclean-core==0.4.1->openclean) (3.1.24)\n",
      "Requirement already satisfied: psutil in /Library/Frameworks/Python.framework/Versions/3.9/lib/python3.9/site-packages (from histore>=0.4.0->openclean-core==0.4.1->openclean) (5.8.0)\n",
      "Requirement already satisfied: pyrsistent>=0.14.0 in /Library/Frameworks/Python.framework/Versions/3.9/lib/python3.9/site-packages (from jsonschema>=3.2.0->openclean-core==0.4.1->openclean) (0.18.0)\n",
      "Requirement already satisfied: setuptools in /Library/Frameworks/Python.framework/Versions/3.9/lib/python3.9/site-packages (from jsonschema>=3.2.0->openclean-core==0.4.1->openclean) (57.4.0)\n",
      "Requirement already satisfied: six>=1.11.0 in /Users/yangzonglin/Library/Python/3.9/lib/python/site-packages (from jsonschema>=3.2.0->openclean-core==0.4.1->openclean) (1.16.0)\n",
      "Requirement already satisfied: attrs>=17.4.0 in /Library/Frameworks/Python.framework/Versions/3.9/lib/python3.9/site-packages (from jsonschema>=3.2.0->openclean-core==0.4.1->openclean) (21.2.0)\n",
      "Requirement already satisfied: numpy>=1.17.3 in /Library/Frameworks/Python.framework/Versions/3.9/lib/python3.9/site-packages (from pandas>=1.0.0->openclean-core==0.4.1->openclean) (1.21.4)\n",
      "Requirement already satisfied: pytz>=2017.3 in /Library/Frameworks/Python.framework/Versions/3.9/lib/python3.9/site-packages (from pandas>=1.0.0->openclean-core==0.4.1->openclean) (2021.3)\n",
      "Requirement already satisfied: pooch>=1.3.0 in /Library/Frameworks/Python.framework/Versions/3.9/lib/python3.9/site-packages (from refdata>=0.2.0->openclean-core==0.4.1->openclean) (1.5.2)\n",
      "Requirement already satisfied: tableprint in /Library/Frameworks/Python.framework/Versions/3.9/lib/python3.9/site-packages (from refdata>=0.2.0->openclean-core==0.4.1->openclean) (0.9.1)\n",
      "Requirement already satisfied: datasize>=1.0.0 in /Library/Frameworks/Python.framework/Versions/3.9/lib/python3.9/site-packages (from refdata>=0.2.0->openclean-core==0.4.1->openclean) (1.0.0)\n",
      "Requirement already satisfied: packaging in /Library/Frameworks/Python.framework/Versions/3.9/lib/python3.9/site-packages (from pooch>=1.3.0->refdata>=0.2.0->openclean-core==0.4.1->openclean) (21.3)\n",
      "Requirement already satisfied: greenlet!=0.4.17 in /Library/Frameworks/Python.framework/Versions/3.9/lib/python3.9/site-packages (from SQLAlchemy>=1.3.18->flowserv-core>=0.8.0->openclean-core==0.4.1->openclean) (1.1.2)\n",
      "Requirement already satisfied: gitdb<5,>=4.0.1 in /Library/Frameworks/Python.framework/Versions/3.9/lib/python3.9/site-packages (from gitpython->flowserv-core>=0.8.0->openclean-core==0.4.1->openclean) (4.0.9)\n",
      "Requirement already satisfied: typing-extensions>=3.7.4.3 in /Library/Frameworks/Python.framework/Versions/3.9/lib/python3.9/site-packages (from gitpython->flowserv-core>=0.8.0->openclean-core==0.4.1->openclean) (4.0.0)\n",
      "Requirement already satisfied: smmap<6,>=3.0.1 in /Library/Frameworks/Python.framework/Versions/3.9/lib/python3.9/site-packages (from gitdb<5,>=4.0.1->gitpython->flowserv-core>=0.8.0->openclean-core==0.4.1->openclean) (5.0.0)\n",
      "Requirement already satisfied: pyparsing!=3.0.5,>=2.0.2 in /Library/Frameworks/Python.framework/Versions/3.9/lib/python3.9/site-packages (from packaging->pooch>=1.3.0->refdata>=0.2.0->openclean-core==0.4.1->openclean) (3.0.6)\n"
     ]
    },
    {
     "name": "stdout",
     "output_type": "stream",
     "text": [
      "Requirement already satisfied: cryptography>=2.5 in /Library/Frameworks/Python.framework/Versions/3.9/lib/python3.9/site-packages (from paramiko->flowserv-core>=0.8.0->openclean-core==0.4.1->openclean) (35.0.0)\n",
      "Requirement already satisfied: bcrypt>=3.1.3 in /Library/Frameworks/Python.framework/Versions/3.9/lib/python3.9/site-packages (from paramiko->flowserv-core>=0.8.0->openclean-core==0.4.1->openclean) (3.2.0)\n",
      "Requirement already satisfied: pynacl>=1.0.1 in /Library/Frameworks/Python.framework/Versions/3.9/lib/python3.9/site-packages (from paramiko->flowserv-core>=0.8.0->openclean-core==0.4.1->openclean) (1.4.0)\n",
      "Requirement already satisfied: cffi>=1.1 in /Library/Frameworks/Python.framework/Versions/3.9/lib/python3.9/site-packages (from bcrypt>=3.1.3->paramiko->flowserv-core>=0.8.0->openclean-core==0.4.1->openclean) (1.15.0)\n",
      "Requirement already satisfied: pycparser in /Library/Frameworks/Python.framework/Versions/3.9/lib/python3.9/site-packages (from cffi>=1.1->bcrypt>=3.1.3->paramiko->flowserv-core>=0.8.0->openclean-core==0.4.1->openclean) (2.20)\n",
      "Requirement already satisfied: idna<4,>=2.5 in /Library/Frameworks/Python.framework/Versions/3.9/lib/python3.9/site-packages (from requests->openclean-core==0.4.1->openclean) (3.3)\n",
      "Requirement already satisfied: charset-normalizer~=2.0.0 in /Library/Frameworks/Python.framework/Versions/3.9/lib/python3.9/site-packages (from requests->openclean-core==0.4.1->openclean) (2.0.7)\n",
      "Requirement already satisfied: urllib3<1.27,>=1.21.1 in /Users/yangzonglin/Library/Python/3.9/lib/python/site-packages (from requests->openclean-core==0.4.1->openclean) (1.26.6)\n",
      "Requirement already satisfied: certifi>=2017.4.17 in /Library/Frameworks/Python.framework/Versions/3.9/lib/python3.9/site-packages (from requests->openclean-core==0.4.1->openclean) (2021.10.8)\n",
      "Requirement already satisfied: joblib>=0.11 in /Library/Frameworks/Python.framework/Versions/3.9/lib/python3.9/site-packages (from scikit-learn->openclean-core==0.4.1->openclean) (1.1.0)\n",
      "Requirement already satisfied: threadpoolctl>=2.0.0 in /Library/Frameworks/Python.framework/Versions/3.9/lib/python3.9/site-packages (from scikit-learn->openclean-core==0.4.1->openclean) (3.0.0)\n",
      "Requirement already satisfied: wcwidth in /Library/Frameworks/Python.framework/Versions/3.9/lib/python3.9/site-packages (from tableprint->refdata>=0.2.0->openclean-core==0.4.1->openclean) (0.2.5)\n",
      "\u001b[33mWARNING: You are using pip version 21.2.4; however, version 21.3.1 is available.\n",
      "You should consider upgrading via the '/Library/Frameworks/Python.framework/Versions/3.9/bin/python3 -m pip install --upgrade pip' command.\u001b[0m\n",
      "Requirement already satisfied: openclean_geo in /Library/Frameworks/Python.framework/Versions/3.9/lib/python3.9/site-packages (0.1.0)\n",
      "Requirement already satisfied: openclean-core>=0.3.0 in /Library/Frameworks/Python.framework/Versions/3.9/lib/python3.9/site-packages (from openclean_geo) (0.4.1)\n",
      "Requirement already satisfied: Shapely>=1.7.1 in /Library/Frameworks/Python.framework/Versions/3.9/lib/python3.9/site-packages (from openclean_geo) (1.8.0)\n",
      "Requirement already satisfied: scipy in /Library/Frameworks/Python.framework/Versions/3.9/lib/python3.9/site-packages (from openclean-core>=0.3.0->openclean_geo) (1.7.2)\n",
      "Requirement already satisfied: jellyfish in /Library/Frameworks/Python.framework/Versions/3.9/lib/python3.9/site-packages (from openclean-core>=0.3.0->openclean_geo) (0.8.9)\n",
      "Requirement already satisfied: histore>=0.4.0 in /Library/Frameworks/Python.framework/Versions/3.9/lib/python3.9/site-packages (from openclean-core>=0.3.0->openclean_geo) (0.4.1)\n",
      "Requirement already satisfied: scikit-learn in /Library/Frameworks/Python.framework/Versions/3.9/lib/python3.9/site-packages (from openclean-core>=0.3.0->openclean_geo) (0.23.2)\n",
      "Requirement already satisfied: appdirs>=1.4.4 in /Library/Frameworks/Python.framework/Versions/3.9/lib/python3.9/site-packages (from openclean-core>=0.3.0->openclean_geo) (1.4.4)\n",
      "Requirement already satisfied: dill in /Library/Frameworks/Python.framework/Versions/3.9/lib/python3.9/site-packages (from openclean-core>=0.3.0->openclean_geo) (0.3.4)\n",
      "Requirement already satisfied: requests in /Library/Frameworks/Python.framework/Versions/3.9/lib/python3.9/site-packages (from openclean-core>=0.3.0->openclean_geo) (2.26.0)\n",
      "Requirement already satisfied: future in /Library/Frameworks/Python.framework/Versions/3.9/lib/python3.9/site-packages (from openclean-core>=0.3.0->openclean_geo) (0.18.2)\n",
      "Requirement already satisfied: python-dateutil in /Users/yangzonglin/Library/Python/3.9/lib/python/site-packages (from openclean-core>=0.3.0->openclean_geo) (2.8.2)\n",
      "Requirement already satisfied: refdata>=0.2.0 in /Library/Frameworks/Python.framework/Versions/3.9/lib/python3.9/site-packages (from openclean-core>=0.3.0->openclean_geo) (0.2.0)\n",
      "Requirement already satisfied: jsonschema>=3.2.0 in /Library/Frameworks/Python.framework/Versions/3.9/lib/python3.9/site-packages (from openclean-core>=0.3.0->openclean_geo) (3.2.0)\n",
      "Requirement already satisfied: pandas>=1.0.0 in /Library/Frameworks/Python.framework/Versions/3.9/lib/python3.9/site-packages (from openclean-core>=0.3.0->openclean_geo) (1.3.4)\n",
      "Requirement already satisfied: flowserv-core>=0.8.0 in /Library/Frameworks/Python.framework/Versions/3.9/lib/python3.9/site-packages (from openclean-core>=0.3.0->openclean_geo) (0.9.2)\n",
      "Requirement already satisfied: gitpython in /Library/Frameworks/Python.framework/Versions/3.9/lib/python3.9/site-packages (from flowserv-core>=0.8.0->openclean-core>=0.3.0->openclean_geo) (3.1.24)\n",
      "Requirement already satisfied: pyyaml>=5.1 in /Library/Frameworks/Python.framework/Versions/3.9/lib/python3.9/site-packages (from flowserv-core>=0.8.0->openclean-core>=0.3.0->openclean_geo) (5.4.1)\n",
      "Requirement already satisfied: passlib in /Library/Frameworks/Python.framework/Versions/3.9/lib/python3.9/site-packages (from flowserv-core>=0.8.0->openclean-core>=0.3.0->openclean_geo) (1.7.4)\n",
      "Requirement already satisfied: SQLAlchemy>=1.3.18 in /Library/Frameworks/Python.framework/Versions/3.9/lib/python3.9/site-packages (from flowserv-core>=0.8.0->openclean-core>=0.3.0->openclean_geo) (1.4.27)\n",
      "Requirement already satisfied: pyyaml-include in /Library/Frameworks/Python.framework/Versions/3.9/lib/python3.9/site-packages (from flowserv-core>=0.8.0->openclean-core>=0.3.0->openclean_geo) (1.2.post2)\n",
      "Requirement already satisfied: paramiko in /Library/Frameworks/Python.framework/Versions/3.9/lib/python3.9/site-packages (from flowserv-core>=0.8.0->openclean-core>=0.3.0->openclean_geo) (2.8.0)\n",
      "Requirement already satisfied: Click in /Library/Frameworks/Python.framework/Versions/3.9/lib/python3.9/site-packages (from flowserv-core>=0.8.0->openclean-core>=0.3.0->openclean_geo) (8.0.3)\n",
      "Requirement already satisfied: psutil in /Library/Frameworks/Python.framework/Versions/3.9/lib/python3.9/site-packages (from histore>=0.4.0->openclean-core>=0.3.0->openclean_geo) (5.8.0)\n",
      "Requirement already satisfied: six>=1.11.0 in /Users/yangzonglin/Library/Python/3.9/lib/python/site-packages (from jsonschema>=3.2.0->openclean-core>=0.3.0->openclean_geo) (1.16.0)\n",
      "Requirement already satisfied: attrs>=17.4.0 in /Library/Frameworks/Python.framework/Versions/3.9/lib/python3.9/site-packages (from jsonschema>=3.2.0->openclean-core>=0.3.0->openclean_geo) (21.2.0)\n",
      "Requirement already satisfied: setuptools in /Library/Frameworks/Python.framework/Versions/3.9/lib/python3.9/site-packages (from jsonschema>=3.2.0->openclean-core>=0.3.0->openclean_geo) (57.4.0)\n",
      "Requirement already satisfied: pyrsistent>=0.14.0 in /Library/Frameworks/Python.framework/Versions/3.9/lib/python3.9/site-packages (from jsonschema>=3.2.0->openclean-core>=0.3.0->openclean_geo) (0.18.0)\n",
      "Requirement already satisfied: pytz>=2017.3 in /Library/Frameworks/Python.framework/Versions/3.9/lib/python3.9/site-packages (from pandas>=1.0.0->openclean-core>=0.3.0->openclean_geo) (2021.3)\n",
      "Requirement already satisfied: numpy>=1.17.3 in /Library/Frameworks/Python.framework/Versions/3.9/lib/python3.9/site-packages (from pandas>=1.0.0->openclean-core>=0.3.0->openclean_geo) (1.21.4)\n",
      "Requirement already satisfied: pooch>=1.3.0 in /Library/Frameworks/Python.framework/Versions/3.9/lib/python3.9/site-packages (from refdata>=0.2.0->openclean-core>=0.3.0->openclean_geo) (1.5.2)\n",
      "Requirement already satisfied: tableprint in /Library/Frameworks/Python.framework/Versions/3.9/lib/python3.9/site-packages (from refdata>=0.2.0->openclean-core>=0.3.0->openclean_geo) (0.9.1)\n",
      "Requirement already satisfied: datasize>=1.0.0 in /Library/Frameworks/Python.framework/Versions/3.9/lib/python3.9/site-packages (from refdata>=0.2.0->openclean-core>=0.3.0->openclean_geo) (1.0.0)\n"
     ]
    },
    {
     "name": "stdout",
     "output_type": "stream",
     "text": [
      "Requirement already satisfied: packaging in /Library/Frameworks/Python.framework/Versions/3.9/lib/python3.9/site-packages (from pooch>=1.3.0->refdata>=0.2.0->openclean-core>=0.3.0->openclean_geo) (21.3)\n",
      "Requirement already satisfied: greenlet!=0.4.17 in /Library/Frameworks/Python.framework/Versions/3.9/lib/python3.9/site-packages (from SQLAlchemy>=1.3.18->flowserv-core>=0.8.0->openclean-core>=0.3.0->openclean_geo) (1.1.2)\n",
      "Requirement already satisfied: typing-extensions>=3.7.4.3 in /Library/Frameworks/Python.framework/Versions/3.9/lib/python3.9/site-packages (from gitpython->flowserv-core>=0.8.0->openclean-core>=0.3.0->openclean_geo) (4.0.0)\n",
      "Requirement already satisfied: gitdb<5,>=4.0.1 in /Library/Frameworks/Python.framework/Versions/3.9/lib/python3.9/site-packages (from gitpython->flowserv-core>=0.8.0->openclean-core>=0.3.0->openclean_geo) (4.0.9)\n",
      "Requirement already satisfied: smmap<6,>=3.0.1 in /Library/Frameworks/Python.framework/Versions/3.9/lib/python3.9/site-packages (from gitdb<5,>=4.0.1->gitpython->flowserv-core>=0.8.0->openclean-core>=0.3.0->openclean_geo) (5.0.0)\n",
      "Requirement already satisfied: pyparsing!=3.0.5,>=2.0.2 in /Library/Frameworks/Python.framework/Versions/3.9/lib/python3.9/site-packages (from packaging->pooch>=1.3.0->refdata>=0.2.0->openclean-core>=0.3.0->openclean_geo) (3.0.6)\n",
      "Requirement already satisfied: bcrypt>=3.1.3 in /Library/Frameworks/Python.framework/Versions/3.9/lib/python3.9/site-packages (from paramiko->flowserv-core>=0.8.0->openclean-core>=0.3.0->openclean_geo) (3.2.0)\n",
      "Requirement already satisfied: cryptography>=2.5 in /Library/Frameworks/Python.framework/Versions/3.9/lib/python3.9/site-packages (from paramiko->flowserv-core>=0.8.0->openclean-core>=0.3.0->openclean_geo) (35.0.0)\n",
      "Requirement already satisfied: pynacl>=1.0.1 in /Library/Frameworks/Python.framework/Versions/3.9/lib/python3.9/site-packages (from paramiko->flowserv-core>=0.8.0->openclean-core>=0.3.0->openclean_geo) (1.4.0)\n",
      "Requirement already satisfied: cffi>=1.1 in /Library/Frameworks/Python.framework/Versions/3.9/lib/python3.9/site-packages (from bcrypt>=3.1.3->paramiko->flowserv-core>=0.8.0->openclean-core>=0.3.0->openclean_geo) (1.15.0)\n",
      "Requirement already satisfied: pycparser in /Library/Frameworks/Python.framework/Versions/3.9/lib/python3.9/site-packages (from cffi>=1.1->bcrypt>=3.1.3->paramiko->flowserv-core>=0.8.0->openclean-core>=0.3.0->openclean_geo) (2.20)\n",
      "Requirement already satisfied: charset-normalizer~=2.0.0 in /Library/Frameworks/Python.framework/Versions/3.9/lib/python3.9/site-packages (from requests->openclean-core>=0.3.0->openclean_geo) (2.0.7)\n",
      "Requirement already satisfied: urllib3<1.27,>=1.21.1 in /Users/yangzonglin/Library/Python/3.9/lib/python/site-packages (from requests->openclean-core>=0.3.0->openclean_geo) (1.26.6)\n",
      "Requirement already satisfied: certifi>=2017.4.17 in /Library/Frameworks/Python.framework/Versions/3.9/lib/python3.9/site-packages (from requests->openclean-core>=0.3.0->openclean_geo) (2021.10.8)\n",
      "Requirement already satisfied: idna<4,>=2.5 in /Library/Frameworks/Python.framework/Versions/3.9/lib/python3.9/site-packages (from requests->openclean-core>=0.3.0->openclean_geo) (3.3)\n",
      "Requirement already satisfied: threadpoolctl>=2.0.0 in /Library/Frameworks/Python.framework/Versions/3.9/lib/python3.9/site-packages (from scikit-learn->openclean-core>=0.3.0->openclean_geo) (3.0.0)\n",
      "Requirement already satisfied: joblib>=0.11 in /Library/Frameworks/Python.framework/Versions/3.9/lib/python3.9/site-packages (from scikit-learn->openclean-core>=0.3.0->openclean_geo) (1.1.0)\n",
      "Requirement already satisfied: wcwidth in /Library/Frameworks/Python.framework/Versions/3.9/lib/python3.9/site-packages (from tableprint->refdata>=0.2.0->openclean-core>=0.3.0->openclean_geo) (0.2.5)\n",
      "\u001b[33mWARNING: You are using pip version 21.2.4; however, version 21.3.1 is available.\n",
      "You should consider upgrading via the '/Library/Frameworks/Python.framework/Versions/3.9/bin/python3 -m pip install --upgrade pip' command.\u001b[0m\n"
     ]
    }
   ],
   "source": [
    "# Since we are using Google Colab, we have to first install openclean library.\n",
    "!pip install openclean_notebook\n",
    "!pip install openclean\n",
    "!pip install openclean_geo"
   ]
  },
  {
   "cell_type": "code",
   "execution_count": 51,
   "metadata": {
    "id": "5JU8eKIg-98Z"
   },
   "outputs": [],
   "source": [
    "# Import necessary libraries\n",
    "import os\n",
    "import requests\n",
    "from openclean.pipeline import stream\n",
    "import pandas as pd\n",
    "\n",
    "\n",
    "# Download the full 'DOB Job Application Filings' dataset.\n",
    "csvPath = './uxsz-6j5j.csv'\n",
    "csvPath_new = './uxsz-6j5j_raw.csv'\n",
    "if not os.path.isfile(csvPath):\n",
    "  csvUrl = \"https://data.cityofnewyork.us/resource/uxsz-6j5j.csv\"\n",
    "  req = requests.get(csvUrl)\n",
    "  url_content = req.content\n",
    "  outfile = open(csvPath, 'wb')\n",
    "  outfile.write(url_content)\n",
    "  outfile.close()\n",
    "\n",
    "ds_Full = pd.read_csv(csvPath, nrows=1)\n",
    "ds_Full.to_csv('./uxsz-6j5j_raw.csv', encoding='utf-8', index=False)"
   ]
  },
  {
   "cell_type": "markdown",
   "metadata": {
    "id": "5uZH4cw8ETQg"
   },
   "source": [
    "# Data Profiling\n",
    "\n",
    "Let's first do some preliminary profiling on the dataset so that we can gain some insight about the data."
   ]
  },
  {
   "cell_type": "code",
   "execution_count": 52,
   "metadata": {
    "colab": {
     "base_uri": "https://localhost:8080/"
    },
    "id": "s3ZU0-oV_YN8",
    "outputId": "cff2e2f2-4e6c-416c-e42c-b8ca54c81c63"
   },
   "outputs": [],
   "source": [
    "# Do the preliminary profiling\n",
    "from openclean.profiling.column import DefaultColumnProfiler\n",
    "\n",
    "ds_Full = stream(csvPath_new)\n",
    "profiles = ds_Full.profile(default_profiler=DefaultColumnProfiler)"
   ]
  },
  {
   "cell_type": "code",
   "execution_count": 53,
   "metadata": {
    "colab": {
     "base_uri": "https://localhost:8080/"
    },
    "id": "372WttOtgOoH",
    "outputId": "38c78f0d-8fd2-4142-e94c-cae25f5cd969"
   },
   "outputs": [
    {
     "data": {
      "text/plain": [
       "['Business Name (DBA)',\n",
       " 'Address1',\n",
       " 'Address2',\n",
       " 'City',\n",
       " 'State',\n",
       " 'Zip',\n",
       " 'Community Board',\n",
       " 'NAICS Code',\n",
       " 'Number of Worker-Owners',\n",
       " 'Number of Non-Member Worker-Owners',\n",
       " 'Subtype',\n",
       " 'Borough',\n",
       " 'Latitude',\n",
       " 'Longitude',\n",
       " 'City Council',\n",
       " 'Census Tract',\n",
       " 'BIN',\n",
       " 'BBL',\n",
       " 'NTA']"
      ]
     },
     "execution_count": 53,
     "metadata": {},
     "output_type": "execute_result"
    }
   ],
   "source": [
    "# Take a look at the column names in this dataset\n",
    "ds_Full.columns"
   ]
  },
  {
   "cell_type": "code",
   "execution_count": 54,
   "metadata": {
    "colab": {
     "base_uri": "https://localhost:8080/",
     "height": 1000
    },
    "id": "aEPZsZKFglVX",
    "outputId": "ae3fbbf2-d5cb-4719-fd08-6df2b179ba84"
   },
   "outputs": [
    {
     "data": {
      "text/html": [
       "<div>\n",
       "<style scoped>\n",
       "    .dataframe tbody tr th:only-of-type {\n",
       "        vertical-align: middle;\n",
       "    }\n",
       "\n",
       "    .dataframe tbody tr th {\n",
       "        vertical-align: top;\n",
       "    }\n",
       "\n",
       "    .dataframe thead th {\n",
       "        text-align: right;\n",
       "    }\n",
       "</style>\n",
       "<table border=\"1\" class=\"dataframe\">\n",
       "  <thead>\n",
       "    <tr style=\"text-align: right;\">\n",
       "      <th></th>\n",
       "      <th>Business Name (DBA)</th>\n",
       "      <th>Address1</th>\n",
       "      <th>Address2</th>\n",
       "      <th>City</th>\n",
       "      <th>State</th>\n",
       "      <th>Zip</th>\n",
       "      <th>Community Board</th>\n",
       "      <th>NAICS Code</th>\n",
       "      <th>Number of Worker-Owners</th>\n",
       "      <th>Number of Non-Member Worker-Owners</th>\n",
       "      <th>Subtype</th>\n",
       "      <th>Borough</th>\n",
       "      <th>Latitude</th>\n",
       "      <th>Longitude</th>\n",
       "      <th>City Council</th>\n",
       "      <th>Census Tract</th>\n",
       "      <th>BIN</th>\n",
       "      <th>BBL</th>\n",
       "      <th>NTA</th>\n",
       "    </tr>\n",
       "  </thead>\n",
       "  <tbody>\n",
       "    <tr>\n",
       "      <th>0</th>\n",
       "      <td>A Bookkeeping Cooperative</td>\n",
       "      <td>495 Flatbush Avenue</td>\n",
       "      <td>Suite 2</td>\n",
       "      <td>Brooklyn</td>\n",
       "      <td>NY</td>\n",
       "      <td>11225</td>\n",
       "      <td>9 BROOKLYN</td>\n",
       "      <td>Other Accounting Services</td>\n",
       "      <td></td>\n",
       "      <td></td>\n",
       "      <td>Market Research</td>\n",
       "      <td>BROOKLYN</td>\n",
       "      <td>40.662184</td>\n",
       "      <td>-73.961754</td>\n",
       "      <td>40</td>\n",
       "      <td>327</td>\n",
       "      <td>3029735</td>\n",
       "      <td>3011970006</td>\n",
       "      <td>Prospect Lefferts Gardens-Wingate</td>\n",
       "    </tr>\n",
       "  </tbody>\n",
       "</table>\n",
       "</div>"
      ],
      "text/plain": [
       "         Business Name (DBA)             Address1 Address2      City State  \\\n",
       "0  A Bookkeeping Cooperative  495 Flatbush Avenue  Suite 2  Brooklyn    NY   \n",
       "\n",
       "     Zip Community Board                 NAICS Code Number of Worker-Owners  \\\n",
       "0  11225      9 BROOKLYN  Other Accounting Services                           \n",
       "\n",
       "  Number of Non-Member Worker-Owners          Subtype   Borough   Latitude  \\\n",
       "0                                     Market Research  BROOKLYN  40.662184   \n",
       "\n",
       "    Longitude City Council Census Tract      BIN         BBL  \\\n",
       "0  -73.961754           40          327  3029735  3011970006   \n",
       "\n",
       "                                 NTA  \n",
       "0  Prospect Lefferts Gardens-Wingate  "
      ]
     },
     "execution_count": 54,
     "metadata": {},
     "output_type": "execute_result"
    }
   ],
   "source": [
    "# Take a look at the first 10 rows\n",
    "ds_Full.head()"
   ]
  },
  {
   "cell_type": "code",
   "execution_count": 55,
   "metadata": {
    "colab": {
     "base_uri": "https://localhost:8080/"
    },
    "id": "R1ODbW94gsR4",
    "outputId": "d7119164-a1e7-4c19-ef10-920f8a3645e8"
   },
   "outputs": [
    {
     "data": {
      "text/plain": [
       "1"
      ]
     },
     "execution_count": 55,
     "metadata": {},
     "output_type": "execute_result"
    }
   ],
   "source": [
    "# See how many rows are there in this dataset\n",
    "ds_Full.count()"
   ]
  },
  {
   "cell_type": "code",
   "execution_count": 56,
   "metadata": {
    "colab": {
     "base_uri": "https://localhost:8080/"
    },
    "id": "gjqK1iL3AzmV",
    "outputId": "f22034bf-94d0-4e1c-85b8-33f9f86d59b1"
   },
   "outputs": [
    {
     "data": {
      "text/plain": [
       "[{'column': 'Business Name (DBA)',\n",
       "  'stats': {'totalValueCount': 1,\n",
       "   'emptyValueCount': 0,\n",
       "   'datatypes': defaultdict(collections.Counter,\n",
       "               {'total': Counter({'str': 1}),\n",
       "                'distinct': Counter({'str': 1})}),\n",
       "   'minmaxValues': {'str': {'minimum': 'A Bookkeeping Cooperative',\n",
       "     'maximum': 'A Bookkeeping Cooperative'}},\n",
       "   'distinctValueCount': 1,\n",
       "   'entropy': 0.0,\n",
       "   'topValues': [('A Bookkeeping Cooperative', 1)]}},\n",
       " {'column': 'Address1',\n",
       "  'stats': {'totalValueCount': 1,\n",
       "   'emptyValueCount': 0,\n",
       "   'datatypes': defaultdict(collections.Counter,\n",
       "               {'total': Counter({'str': 1}),\n",
       "                'distinct': Counter({'str': 1})}),\n",
       "   'minmaxValues': {'str': {'minimum': '495 Flatbush Avenue',\n",
       "     'maximum': '495 Flatbush Avenue'}},\n",
       "   'distinctValueCount': 1,\n",
       "   'entropy': 0.0,\n",
       "   'topValues': [('495 Flatbush Avenue', 1)]}},\n",
       " {'column': 'Address2',\n",
       "  'stats': {'totalValueCount': 1,\n",
       "   'emptyValueCount': 0,\n",
       "   'datatypes': defaultdict(collections.Counter,\n",
       "               {'total': Counter({'str': 1}),\n",
       "                'distinct': Counter({'str': 1})}),\n",
       "   'minmaxValues': {'str': {'minimum': 'Suite 2', 'maximum': 'Suite 2'}},\n",
       "   'distinctValueCount': 1,\n",
       "   'entropy': 0.0,\n",
       "   'topValues': [('Suite 2', 1)]}},\n",
       " {'column': 'City',\n",
       "  'stats': {'totalValueCount': 1,\n",
       "   'emptyValueCount': 0,\n",
       "   'datatypes': defaultdict(collections.Counter,\n",
       "               {'total': Counter({'str': 1}),\n",
       "                'distinct': Counter({'str': 1})}),\n",
       "   'minmaxValues': {'str': {'minimum': 'Brooklyn', 'maximum': 'Brooklyn'}},\n",
       "   'distinctValueCount': 1,\n",
       "   'entropy': 0.0,\n",
       "   'topValues': [('Brooklyn', 1)]}},\n",
       " {'column': 'State',\n",
       "  'stats': {'totalValueCount': 1,\n",
       "   'emptyValueCount': 0,\n",
       "   'datatypes': defaultdict(collections.Counter,\n",
       "               {'total': Counter({'str': 1}),\n",
       "                'distinct': Counter({'str': 1})}),\n",
       "   'minmaxValues': {'str': {'minimum': 'NY', 'maximum': 'NY'}},\n",
       "   'distinctValueCount': 1,\n",
       "   'entropy': 0.0,\n",
       "   'topValues': [('NY', 1)]}},\n",
       " {'column': 'Zip',\n",
       "  'stats': {'totalValueCount': 1,\n",
       "   'emptyValueCount': 0,\n",
       "   'datatypes': defaultdict(collections.Counter,\n",
       "               {'total': Counter({'int': 1}),\n",
       "                'distinct': Counter({'int': 1})}),\n",
       "   'minmaxValues': {'int': {'minimum': 11225, 'maximum': 11225}},\n",
       "   'distinctValueCount': 1,\n",
       "   'entropy': 0.0,\n",
       "   'topValues': [('11225', 1)]}},\n",
       " {'column': 'Community Board',\n",
       "  'stats': {'totalValueCount': 1,\n",
       "   'emptyValueCount': 0,\n",
       "   'datatypes': defaultdict(collections.Counter,\n",
       "               {'total': Counter({'str': 1}),\n",
       "                'distinct': Counter({'str': 1})}),\n",
       "   'minmaxValues': {'str': {'minimum': '9 BROOKLYN', 'maximum': '9 BROOKLYN'}},\n",
       "   'distinctValueCount': 1,\n",
       "   'entropy': 0.0,\n",
       "   'topValues': [('9 BROOKLYN', 1)]}},\n",
       " {'column': 'NAICS Code',\n",
       "  'stats': {'totalValueCount': 1,\n",
       "   'emptyValueCount': 0,\n",
       "   'datatypes': defaultdict(collections.Counter,\n",
       "               {'total': Counter({'str': 1}),\n",
       "                'distinct': Counter({'str': 1})}),\n",
       "   'minmaxValues': {'str': {'minimum': 'Other Accounting Services',\n",
       "     'maximum': 'Other Accounting Services'}},\n",
       "   'distinctValueCount': 1,\n",
       "   'entropy': 0.0,\n",
       "   'topValues': [('Other Accounting Services', 1)]}},\n",
       " {'column': 'Number of Worker-Owners',\n",
       "  'stats': {'totalValueCount': 1,\n",
       "   'emptyValueCount': 1,\n",
       "   'datatypes': defaultdict(collections.Counter, {}),\n",
       "   'minmaxValues': {},\n",
       "   'distinctValueCount': 0,\n",
       "   'entropy': None,\n",
       "   'topValues': []}},\n",
       " {'column': 'Number of Non-Member Worker-Owners',\n",
       "  'stats': {'totalValueCount': 1,\n",
       "   'emptyValueCount': 1,\n",
       "   'datatypes': defaultdict(collections.Counter, {}),\n",
       "   'minmaxValues': {},\n",
       "   'distinctValueCount': 0,\n",
       "   'entropy': None,\n",
       "   'topValues': []}},\n",
       " {'column': 'Subtype',\n",
       "  'stats': {'totalValueCount': 1,\n",
       "   'emptyValueCount': 0,\n",
       "   'datatypes': defaultdict(collections.Counter,\n",
       "               {'total': Counter({'str': 1}),\n",
       "                'distinct': Counter({'str': 1})}),\n",
       "   'minmaxValues': {'str': {'minimum': 'Market Research',\n",
       "     'maximum': 'Market Research'}},\n",
       "   'distinctValueCount': 1,\n",
       "   'entropy': 0.0,\n",
       "   'topValues': [('Market Research', 1)]}},\n",
       " {'column': 'Borough',\n",
       "  'stats': {'totalValueCount': 1,\n",
       "   'emptyValueCount': 0,\n",
       "   'datatypes': defaultdict(collections.Counter,\n",
       "               {'total': Counter({'str': 1}),\n",
       "                'distinct': Counter({'str': 1})}),\n",
       "   'minmaxValues': {'str': {'minimum': 'BROOKLYN', 'maximum': 'BROOKLYN'}},\n",
       "   'distinctValueCount': 1,\n",
       "   'entropy': 0.0,\n",
       "   'topValues': [('BROOKLYN', 1)]}},\n",
       " {'column': 'Latitude',\n",
       "  'stats': {'totalValueCount': 1,\n",
       "   'emptyValueCount': 0,\n",
       "   'datatypes': defaultdict(collections.Counter,\n",
       "               {'total': Counter({'float': 1}),\n",
       "                'distinct': Counter({'float': 1})}),\n",
       "   'minmaxValues': {'float': {'minimum': 40.662184, 'maximum': 40.662184}},\n",
       "   'distinctValueCount': 1,\n",
       "   'entropy': 0.0,\n",
       "   'topValues': [('40.662184', 1)]}},\n",
       " {'column': 'Longitude',\n",
       "  'stats': {'totalValueCount': 1,\n",
       "   'emptyValueCount': 0,\n",
       "   'datatypes': defaultdict(collections.Counter,\n",
       "               {'total': Counter({'float': 1}),\n",
       "                'distinct': Counter({'float': 1})}),\n",
       "   'minmaxValues': {'float': {'minimum': -73.961754, 'maximum': -73.961754}},\n",
       "   'distinctValueCount': 1,\n",
       "   'entropy': 0.0,\n",
       "   'topValues': [('-73.961754', 1)]}},\n",
       " {'column': 'City Council',\n",
       "  'stats': {'totalValueCount': 1,\n",
       "   'emptyValueCount': 0,\n",
       "   'datatypes': defaultdict(collections.Counter,\n",
       "               {'total': Counter({'int': 1}),\n",
       "                'distinct': Counter({'int': 1})}),\n",
       "   'minmaxValues': {'int': {'minimum': 40, 'maximum': 40}},\n",
       "   'distinctValueCount': 1,\n",
       "   'entropy': 0.0,\n",
       "   'topValues': [('40', 1)]}},\n",
       " {'column': 'Census Tract',\n",
       "  'stats': {'totalValueCount': 1,\n",
       "   'emptyValueCount': 0,\n",
       "   'datatypes': defaultdict(collections.Counter,\n",
       "               {'total': Counter({'int': 1}),\n",
       "                'distinct': Counter({'int': 1})}),\n",
       "   'minmaxValues': {'int': {'minimum': 327, 'maximum': 327}},\n",
       "   'distinctValueCount': 1,\n",
       "   'entropy': 0.0,\n",
       "   'topValues': [('327', 1)]}},\n",
       " {'column': 'BIN',\n",
       "  'stats': {'totalValueCount': 1,\n",
       "   'emptyValueCount': 0,\n",
       "   'datatypes': defaultdict(collections.Counter,\n",
       "               {'total': Counter({'int': 1}),\n",
       "                'distinct': Counter({'int': 1})}),\n",
       "   'minmaxValues': {'int': {'minimum': 3029735, 'maximum': 3029735}},\n",
       "   'distinctValueCount': 1,\n",
       "   'entropy': 0.0,\n",
       "   'topValues': [('3029735', 1)]}},\n",
       " {'column': 'BBL',\n",
       "  'stats': {'totalValueCount': 1,\n",
       "   'emptyValueCount': 0,\n",
       "   'datatypes': defaultdict(collections.Counter,\n",
       "               {'total': Counter({'int': 1}),\n",
       "                'distinct': Counter({'int': 1})}),\n",
       "   'minmaxValues': {'int': {'minimum': 3011970006, 'maximum': 3011970006}},\n",
       "   'distinctValueCount': 1,\n",
       "   'entropy': 0.0,\n",
       "   'topValues': [('3011970006', 1)]}},\n",
       " {'column': 'NTA',\n",
       "  'stats': {'totalValueCount': 1,\n",
       "   'emptyValueCount': 0,\n",
       "   'datatypes': defaultdict(collections.Counter,\n",
       "               {'total': Counter({'str': 1}),\n",
       "                'distinct': Counter({'str': 1})}),\n",
       "   'minmaxValues': {'str': {'minimum': 'Prospect Lefferts Gardens-Wingate',\n",
       "     'maximum': 'Prospect Lefferts Gardens-Wingate'}},\n",
       "   'distinctValueCount': 1,\n",
       "   'entropy': 0.0,\n",
       "   'topValues': [('Prospect Lefferts Gardens-Wingate', 1)]}}]"
      ]
     },
     "execution_count": 56,
     "metadata": {},
     "output_type": "execute_result"
    }
   ],
   "source": [
    "# Output the profiling result\n",
    "profiles"
   ]
  },
  {
   "cell_type": "code",
   "execution_count": 57,
   "metadata": {
    "colab": {
     "base_uri": "https://localhost:8080/",
     "height": 1000
    },
    "id": "9TNhX0vdfoIM",
    "outputId": "d0f94fd2-f885-43cf-e7fb-73af8b61e85c"
   },
   "outputs": [
    {
     "data": {
      "text/html": [
       "<div>\n",
       "<style scoped>\n",
       "    .dataframe tbody tr th:only-of-type {\n",
       "        vertical-align: middle;\n",
       "    }\n",
       "\n",
       "    .dataframe tbody tr th {\n",
       "        vertical-align: top;\n",
       "    }\n",
       "\n",
       "    .dataframe thead th {\n",
       "        text-align: right;\n",
       "    }\n",
       "</style>\n",
       "<table border=\"1\" class=\"dataframe\">\n",
       "  <thead>\n",
       "    <tr style=\"text-align: right;\">\n",
       "      <th></th>\n",
       "      <th>total</th>\n",
       "      <th>empty</th>\n",
       "      <th>distinct</th>\n",
       "      <th>uniqueness</th>\n",
       "      <th>entropy</th>\n",
       "    </tr>\n",
       "  </thead>\n",
       "  <tbody>\n",
       "    <tr>\n",
       "      <th>Business Name (DBA)</th>\n",
       "      <td>1</td>\n",
       "      <td>0</td>\n",
       "      <td>1</td>\n",
       "      <td>1.0</td>\n",
       "      <td>0.0</td>\n",
       "    </tr>\n",
       "    <tr>\n",
       "      <th>Address1</th>\n",
       "      <td>1</td>\n",
       "      <td>0</td>\n",
       "      <td>1</td>\n",
       "      <td>1.0</td>\n",
       "      <td>0.0</td>\n",
       "    </tr>\n",
       "    <tr>\n",
       "      <th>Address2</th>\n",
       "      <td>1</td>\n",
       "      <td>0</td>\n",
       "      <td>1</td>\n",
       "      <td>1.0</td>\n",
       "      <td>0.0</td>\n",
       "    </tr>\n",
       "    <tr>\n",
       "      <th>City</th>\n",
       "      <td>1</td>\n",
       "      <td>0</td>\n",
       "      <td>1</td>\n",
       "      <td>1.0</td>\n",
       "      <td>0.0</td>\n",
       "    </tr>\n",
       "    <tr>\n",
       "      <th>State</th>\n",
       "      <td>1</td>\n",
       "      <td>0</td>\n",
       "      <td>1</td>\n",
       "      <td>1.0</td>\n",
       "      <td>0.0</td>\n",
       "    </tr>\n",
       "    <tr>\n",
       "      <th>Zip</th>\n",
       "      <td>1</td>\n",
       "      <td>0</td>\n",
       "      <td>1</td>\n",
       "      <td>1.0</td>\n",
       "      <td>0.0</td>\n",
       "    </tr>\n",
       "    <tr>\n",
       "      <th>Community Board</th>\n",
       "      <td>1</td>\n",
       "      <td>0</td>\n",
       "      <td>1</td>\n",
       "      <td>1.0</td>\n",
       "      <td>0.0</td>\n",
       "    </tr>\n",
       "    <tr>\n",
       "      <th>NAICS Code</th>\n",
       "      <td>1</td>\n",
       "      <td>0</td>\n",
       "      <td>1</td>\n",
       "      <td>1.0</td>\n",
       "      <td>0.0</td>\n",
       "    </tr>\n",
       "    <tr>\n",
       "      <th>Number of Worker-Owners</th>\n",
       "      <td>1</td>\n",
       "      <td>1</td>\n",
       "      <td>0</td>\n",
       "      <td>NaN</td>\n",
       "      <td>NaN</td>\n",
       "    </tr>\n",
       "    <tr>\n",
       "      <th>Number of Non-Member Worker-Owners</th>\n",
       "      <td>1</td>\n",
       "      <td>1</td>\n",
       "      <td>0</td>\n",
       "      <td>NaN</td>\n",
       "      <td>NaN</td>\n",
       "    </tr>\n",
       "    <tr>\n",
       "      <th>Subtype</th>\n",
       "      <td>1</td>\n",
       "      <td>0</td>\n",
       "      <td>1</td>\n",
       "      <td>1.0</td>\n",
       "      <td>0.0</td>\n",
       "    </tr>\n",
       "    <tr>\n",
       "      <th>Borough</th>\n",
       "      <td>1</td>\n",
       "      <td>0</td>\n",
       "      <td>1</td>\n",
       "      <td>1.0</td>\n",
       "      <td>0.0</td>\n",
       "    </tr>\n",
       "    <tr>\n",
       "      <th>Latitude</th>\n",
       "      <td>1</td>\n",
       "      <td>0</td>\n",
       "      <td>1</td>\n",
       "      <td>1.0</td>\n",
       "      <td>0.0</td>\n",
       "    </tr>\n",
       "    <tr>\n",
       "      <th>Longitude</th>\n",
       "      <td>1</td>\n",
       "      <td>0</td>\n",
       "      <td>1</td>\n",
       "      <td>1.0</td>\n",
       "      <td>0.0</td>\n",
       "    </tr>\n",
       "    <tr>\n",
       "      <th>City Council</th>\n",
       "      <td>1</td>\n",
       "      <td>0</td>\n",
       "      <td>1</td>\n",
       "      <td>1.0</td>\n",
       "      <td>0.0</td>\n",
       "    </tr>\n",
       "    <tr>\n",
       "      <th>Census Tract</th>\n",
       "      <td>1</td>\n",
       "      <td>0</td>\n",
       "      <td>1</td>\n",
       "      <td>1.0</td>\n",
       "      <td>0.0</td>\n",
       "    </tr>\n",
       "    <tr>\n",
       "      <th>BIN</th>\n",
       "      <td>1</td>\n",
       "      <td>0</td>\n",
       "      <td>1</td>\n",
       "      <td>1.0</td>\n",
       "      <td>0.0</td>\n",
       "    </tr>\n",
       "    <tr>\n",
       "      <th>BBL</th>\n",
       "      <td>1</td>\n",
       "      <td>0</td>\n",
       "      <td>1</td>\n",
       "      <td>1.0</td>\n",
       "      <td>0.0</td>\n",
       "    </tr>\n",
       "    <tr>\n",
       "      <th>NTA</th>\n",
       "      <td>1</td>\n",
       "      <td>0</td>\n",
       "      <td>1</td>\n",
       "      <td>1.0</td>\n",
       "      <td>0.0</td>\n",
       "    </tr>\n",
       "  </tbody>\n",
       "</table>\n",
       "</div>"
      ],
      "text/plain": [
       "                                    total  empty  distinct  uniqueness  \\\n",
       "Business Name (DBA)                     1      0         1         1.0   \n",
       "Address1                                1      0         1         1.0   \n",
       "Address2                                1      0         1         1.0   \n",
       "City                                    1      0         1         1.0   \n",
       "State                                   1      0         1         1.0   \n",
       "Zip                                     1      0         1         1.0   \n",
       "Community Board                         1      0         1         1.0   \n",
       "NAICS Code                              1      0         1         1.0   \n",
       "Number of Worker-Owners                 1      1         0         NaN   \n",
       "Number of Non-Member Worker-Owners      1      1         0         NaN   \n",
       "Subtype                                 1      0         1         1.0   \n",
       "Borough                                 1      0         1         1.0   \n",
       "Latitude                                1      0         1         1.0   \n",
       "Longitude                               1      0         1         1.0   \n",
       "City Council                            1      0         1         1.0   \n",
       "Census Tract                            1      0         1         1.0   \n",
       "BIN                                     1      0         1         1.0   \n",
       "BBL                                     1      0         1         1.0   \n",
       "NTA                                     1      0         1         1.0   \n",
       "\n",
       "                                    entropy  \n",
       "Business Name (DBA)                     0.0  \n",
       "Address1                                0.0  \n",
       "Address2                                0.0  \n",
       "City                                    0.0  \n",
       "State                                   0.0  \n",
       "Zip                                     0.0  \n",
       "Community Board                         0.0  \n",
       "NAICS Code                              0.0  \n",
       "Number of Worker-Owners                 NaN  \n",
       "Number of Non-Member Worker-Owners      NaN  \n",
       "Subtype                                 0.0  \n",
       "Borough                                 0.0  \n",
       "Latitude                                0.0  \n",
       "Longitude                               0.0  \n",
       "City Council                            0.0  \n",
       "Census Tract                            0.0  \n",
       "BIN                                     0.0  \n",
       "BBL                                     0.0  \n",
       "NTA                                     0.0  "
      ]
     },
     "execution_count": 57,
     "metadata": {},
     "output_type": "execute_result"
    }
   ],
   "source": [
    "profiles.stats()"
   ]
  },
  {
   "cell_type": "code",
   "execution_count": 58,
   "metadata": {
    "colab": {
     "base_uri": "https://localhost:8080/"
    },
    "id": "REy3aMukrgi2",
    "outputId": "fc76ef70-a71b-4dac-d0e3-c8919cac0562"
   },
   "outputs": [
    {
     "data": {
      "text/plain": [
       "Business Name (DBA)                   0\n",
       "Address1                              0\n",
       "Address2                              0\n",
       "City                                  0\n",
       "State                                 0\n",
       "Zip                                   0\n",
       "Community Board                       0\n",
       "NAICS Code                            0\n",
       "Number of Worker-Owners               1\n",
       "Number of Non-Member Worker-Owners    1\n",
       "Subtype                               0\n",
       "Borough                               0\n",
       "Latitude                              0\n",
       "Longitude                             0\n",
       "City Council                          0\n",
       "Census Tract                          0\n",
       "BIN                                   0\n",
       "BBL                                   0\n",
       "NTA                                   0\n",
       "Name: empty, dtype: int64"
      ]
     },
     "execution_count": 58,
     "metadata": {},
     "output_type": "execute_result"
    }
   ],
   "source": [
    "# Detect which column has empty value and its amount\n",
    "profiles.stats()['empty']"
   ]
  },
  {
   "cell_type": "code",
   "execution_count": 59,
   "metadata": {
    "colab": {
     "base_uri": "https://localhost:8080/",
     "height": 881
    },
    "id": "eWpR65wmsVgj",
    "outputId": "2556faa7-b14d-4d24-bf41-e6adc373c0b3"
   },
   "outputs": [
    {
     "data": {
      "text/html": [
       "<div>\n",
       "<style scoped>\n",
       "    .dataframe tbody tr th:only-of-type {\n",
       "        vertical-align: middle;\n",
       "    }\n",
       "\n",
       "    .dataframe tbody tr th {\n",
       "        vertical-align: top;\n",
       "    }\n",
       "\n",
       "    .dataframe thead th {\n",
       "        text-align: right;\n",
       "    }\n",
       "</style>\n",
       "<table border=\"1\" class=\"dataframe\">\n",
       "  <thead>\n",
       "    <tr style=\"text-align: right;\">\n",
       "      <th></th>\n",
       "    </tr>\n",
       "  </thead>\n",
       "  <tbody>\n",
       "  </tbody>\n",
       "</table>\n",
       "</div>"
      ],
      "text/plain": [
       "Empty DataFrame\n",
       "Columns: []\n",
       "Index: []"
      ]
     },
     "execution_count": 59,
     "metadata": {},
     "output_type": "execute_result"
    }
   ],
   "source": [
    "# Check the inconsistent datatype\n",
    "# Now we can investigate the outliers issue in this dataset\n",
    "profiles.multitype_columns().types()"
   ]
  },
  {
   "cell_type": "markdown",
   "metadata": {
    "id": "sWG2dbqjFgyt"
   },
   "source": [
    "# Data Cleaning"
   ]
  },
  {
   "cell_type": "code",
   "execution_count": 60,
   "metadata": {
    "id": "KF-O9gaX5wD6"
   },
   "outputs": [],
   "source": [
    "from openclean.operator.transform.update import update\n",
    "from openclean.function.eval.base import Col\n",
    "from openclean.function.eval.datatype import IsDatetime\n",
    "from openclean.function.eval.null import IsEmpty\n",
    "from openclean.function.eval.null import IsNotEmpty\n",
    "from openclean.function.eval.datatype import IsInt\n",
    "from openclean.operator.transform.filter import filter\n",
    "from openclean.function.eval.datatype import IsFloat\n",
    "from openclean.function.eval.logic import And"
   ]
  },
  {
   "cell_type": "markdown",
   "metadata": {
    "id": "7Rr5DUTNHBtW"
   },
   "source": [
    "## Remove rows with empty/problematic values that are not possible to recover\n",
    "\n",
    "There are columns in this dataset that have empty or wrong values. Normally, we will try to recover the mnissing values. Yet, values in some columns are just not able to be infer from other values. In this case, we can only choose to remove those rows."
   ]
  },
  {
   "cell_type": "code",
   "execution_count": 61,
   "metadata": {},
   "outputs": [],
   "source": [
    "ds_Update = ds_Full"
   ]
  },
  {
   "cell_type": "markdown",
   "metadata": {
    "id": "I1mmeqiQIR5x"
   },
   "source": [
    "## Data Standardization\n",
    "\n",
    "In some case, different values may actually represent the same thing. For example, \"5th Avenue\" and \"Fifth AVE\" both point to \"5th AVE\". Thus, we need to standardize the data."
   ]
  },
  {
   "cell_type": "code",
   "execution_count": 62,
   "metadata": {
    "colab": {
     "base_uri": "https://localhost:8080/",
     "height": 102
    },
    "id": "i0wEh5W8N093",
    "outputId": "595dda27-14d7-4924-b2b3-30feb2821db3"
   },
   "outputs": [
    {
     "data": {
      "text/plain": [
       "'\\nfrom openclean.cluster.key import KeyCollision\\nfrom openclean_geo.address.usstreet import USStreetNameKey\\n\\nstreet_names = ds_Update.update(\\'street_name\\', str.upper).distinct(\\'street_name\\')\\nclusters = KeyCollision(func=USStreetNameKey(), threads=3).clusters(street_names)\\n\\ndef print_k_clusters(clusters, k=5):\\n    clusters = sorted(clusters, key=lambda x: len(x), reverse=True)\\n    val_count = sum([len(c) for c in clusters])\\n    print(\\'Total number of clusters is {} with {} values\\'.format(len(clusters), val_count))\\n    for i in range(min(k, len(clusters))):\\n        print(\\'\\nCluster {}\\'.format(i + 1))\\n        for key, cnt in clusters[i].items():\\n            if key == \\'\\':\\n                key = \"\\'\\'\"\\n            print(f\\'  {key} (x {cnt})\\')\\nprint_k_clusters(clusters)\\n'"
      ]
     },
     "execution_count": 62,
     "metadata": {},
     "output_type": "execute_result"
    }
   ],
   "source": [
    "# Street name is a example that needs to be standardized. \n",
    "# Uncomment the lines below and see the clustering of the street names.\n",
    "\n",
    "'''\n",
    "from openclean.cluster.key import KeyCollision\n",
    "from openclean_geo.address.usstreet import USStreetNameKey\n",
    "\n",
    "street_names = ds_Update.update('street_name', str.upper).distinct('street_name')\n",
    "clusters = KeyCollision(func=USStreetNameKey(), threads=3).clusters(street_names)\n",
    "\n",
    "def print_k_clusters(clusters, k=5):\n",
    "    clusters = sorted(clusters, key=lambda x: len(x), reverse=True)\n",
    "    val_count = sum([len(c) for c in clusters])\n",
    "    print('Total number of clusters is {} with {} values'.format(len(clusters), val_count))\n",
    "    for i in range(min(k, len(clusters))):\n",
    "        print('\\nCluster {}'.format(i + 1))\n",
    "        for key, cnt in clusters[i].items():\n",
    "            if key == '':\n",
    "                key = \"''\"\n",
    "            print(f'  {key} (x {cnt})')\n",
    "print_k_clusters(clusters)\n",
    "'''\n"
   ]
  },
  {
   "cell_type": "code",
   "execution_count": 63,
   "metadata": {
    "id": "RhgNhFInhuNd"
   },
   "outputs": [],
   "source": [
    "# Standardize the \"Street Name\"\n",
    "from openclean_geo.address.usstreet import StandardizeUSStreetName\n",
    "#ds_Update = ds_Update.update(columns=\"street_name\", func=StandardizeUSStreetName(characters='upper'))"
   ]
  },
  {
   "cell_type": "code",
   "execution_count": 64,
   "metadata": {
    "id": "RYYC0YpcKwZm"
   },
   "outputs": [],
   "source": [
    "# Fix \"Community - Board\" so the column has consistent format\n",
    "def fixCommunityBoard(num):\n",
    "  if len(num) == 1:\n",
    "    try:\n",
    "      if int(num) <= 5:\n",
    "        return num + '--'\n",
    "      else:\n",
    "        return '---'\n",
    "    except:\n",
    "      return '---'\n",
    "  elif len(num) == 3:\n",
    "    try:\n",
    "      if int(num) <= 5:\n",
    "        return str(int(num)) + '--'\n",
    "      elif int(num) < 100:\n",
    "        return '---'\n",
    "      return num\n",
    "    except:\n",
    "      return '---'\n",
    "  return '---'\n",
    "\n",
    "ds_Test = ds_Update.update(columns=\"community_board\", func=fixCommunityBoard)"
   ]
  },
  {
   "cell_type": "code",
   "execution_count": 65,
   "metadata": {
    "id": "J64y-0Ku2ofW"
   },
   "outputs": [],
   "source": [
    "# There are some rows that use \"X\" for positive representation and empty for negative representation.\n",
    "# We decided to standardize them to \"Y\" and \"N\" where \"Y\" for positive and \"N\" for negative.\n",
    "def fixYN(x):\n",
    "  if x == 'X' or x == 'Y' or x == 'YES':\n",
    "    return 'Y'\n",
    "  return 'N'\n",
    "\n",
    "\n",
    "# The column \"Cluster\" has similar problem.\n",
    "def insertN(x):\n",
    "  if x not in ['Y', 'N']:\n",
    "    return 'N'\n",
    "  return x\n",
    "\n",
    "\n",
    "#some column has empty value where should be \"NONE\"\n",
    "def insertNone(x):\n",
    "    if x == '':\n",
    "        return 'NONE'\n",
    "\n",
    "    "
   ]
  },
  {
   "cell_type": "markdown",
   "metadata": {
    "id": "GInNJw2WMbq8"
   },
   "source": [
    "## Fix characters\n",
    "\n",
    "There are some weird typo in the dataset. For example, in numeric values, what should be \"0\" is replaced by \"O\". We also want to deal with those problems."
   ]
  },
  {
   "cell_type": "code",
   "execution_count": 66,
   "metadata": {
    "id": "o0hzkVCi4SaK"
   },
   "outputs": [],
   "source": [
    "# Fix the characters in \"Block\" and \"Lot\" that actually represent \"0\"\n",
    "def fixNum(num):\n",
    "  if num.isdigit():\n",
    "    return num\n",
    "  res = \"\"\n",
    "  for c in num:\n",
    "    if c.isdigit():\n",
    "      res += c\n",
    "    elif c in ['O', '.', '-']:\n",
    "      res += '0'\n",
    "  return res\n",
    "\n",
    "#ds_Update = ds_Update.update(columns=\"block\", func=fixNum)\n",
    "#ds_Update = ds_Update.update(columns=\"lot\", func=fixNum)"
   ]
  },
  {
   "cell_type": "markdown",
   "metadata": {
    "id": "EF5RXyTRRSiZ"
   },
   "source": [
    "# Correct misspelled city name\n",
    "In the \"City \" column, some cities' name are misspelled. Take BROOKLYN for example, some values maight be like BROKKLYN, BROOLKYN,...,etc. Therefore, we use soundex() to find the misspelled city names and correct them with the matching city name."
   ]
  },
  {
   "cell_type": "code",
   "execution_count": 67,
   "metadata": {
    "colab": {
     "base_uri": "https://localhost:8080/"
    },
    "id": "Rq2eNKATR3ez",
    "outputId": "090ba012-5083-424b-ca86-233c30349683"
   },
   "outputs": [
    {
     "data": {
      "text/plain": [
       "Counter({'Brooklyn': 1})"
      ]
     },
     "execution_count": 67,
     "metadata": {},
     "output_type": "execute_result"
    }
   ],
   "source": [
    "ds_Update.select('City').distinct()"
   ]
  },
  {
   "cell_type": "code",
   "execution_count": 68,
   "metadata": {
    "id": "zRkfyoiqR54Y"
   },
   "outputs": [],
   "source": [
    "from openclean.function.eval.base import Col, Eval\n",
    "from openclean.function.eval.logic import And\n",
    "from openclean.function.value.phonetic import Soundex, soundex\n",
    "\n",
    "ds_Update = ds_Update.update('City', str.upper)"
   ]
  },
  {
   "cell_type": "code",
   "execution_count": 69,
   "metadata": {},
   "outputs": [],
   "source": [
    "# Fix the name of Brooklyn\n",
    "def fixBrooklyn(name):\n",
    "    if soundex(name)==soundex(\"BROOKLYN\"):\n",
    "        name=\"BROOKLYN\"\n",
    "    return name\n",
    "\n",
    "ds_Update = ds_Update.update(columns=\"City\", func=fixBrooklyn)"
   ]
  },
  {
   "cell_type": "code",
   "execution_count": 70,
   "metadata": {
    "id": "_xdPwEB4SJSa"
   },
   "outputs": [],
   "source": [
    "# Fix the name of Long Island City\n",
    "def fixLongIslandCity(name):\n",
    "  if soundex(name)==soundex(\"LONG ISLAND CITY\"):\n",
    "    name=\"LONG ISLAND CITY\"\n",
    "  return name\n",
    "\n",
    "ds_Update = ds_Update.update(columns=\"City\", func=fixLongIslandCity)"
   ]
  },
  {
   "cell_type": "code",
   "execution_count": 71,
   "metadata": {
    "id": "nHxArqviSTrB"
   },
   "outputs": [],
   "source": [
    "#Fix the name of Bronx\n",
    "def fixBronx(name):\n",
    "  if soundex(name)==soundex(\"BRONX\"):\n",
    "    name=\"BRONX\"\n",
    "  return name\n",
    "\n",
    "ds_Update = ds_Update.update(columns=\"City\", func=fixBronx)"
   ]
  },
  {
   "cell_type": "code",
   "execution_count": 72,
   "metadata": {
    "id": "GMRbMT3vScwA"
   },
   "outputs": [],
   "source": [
    "#Fix the name of Manahttan\n",
    "def fixManhattan(name):\n",
    "  if soundex(name)==soundex(\"MANHATTAN\"):\n",
    "    name=\"MANHATTAN\"\n",
    "  return name\n",
    "\n",
    "ds_Update = ds_Update.update(columns=\"City\", func=fixManhattan)"
   ]
  },
  {
   "cell_type": "code",
   "execution_count": 73,
   "metadata": {},
   "outputs": [],
   "source": [
    "#Fix the name of New York\n",
    "def fixNewYork(name):\n",
    "    if soundex(name)==soundex(\"NEW YORK\"):\n",
    "        name=\"NEW YORK\"\n",
    "    return name\n",
    "\n",
    "ds_Update = ds_Update.update(columns=\"City\", func=fixNewYork)    "
   ]
  },
  {
   "cell_type": "code",
   "execution_count": 74,
   "metadata": {},
   "outputs": [],
   "source": [
    "def fixFlushing(name):\n",
    "    if soundex(name)==soundex(\"FLUSHING\"):\n",
    "        name=\"FLUSHING\"\n",
    "    return name\n",
    "ds_Update = ds_Update.update(columns=\"City\", func=fixFlushing)"
   ]
  },
  {
   "cell_type": "code",
   "execution_count": 75,
   "metadata": {},
   "outputs": [],
   "source": [
    "ds_Update = ds_Update.to_df()\n",
    "ds_Update.to_csv('./uxsz-6j5j_program_modify.csv', encoding='utf-8', index=False)"
   ]
  },
  {
   "cell_type": "code",
   "execution_count": null,
   "metadata": {},
   "outputs": [],
   "source": []
  }
 ],
 "metadata": {
  "colab": {
   "collapsed_sections": [],
   "name": "Group 11 - Data Profiling and Cleaning_Submit.ipynb",
   "provenance": []
  },
  "kernelspec": {
   "display_name": "Python 3 (ipykernel)",
   "language": "python",
   "name": "python3"
  },
  "language_info": {
   "codemirror_mode": {
    "name": "ipython",
    "version": 3
   },
   "file_extension": ".py",
   "mimetype": "text/x-python",
   "name": "python",
   "nbconvert_exporter": "python",
   "pygments_lexer": "ipython3",
   "version": "3.9.7"
  }
 },
 "nbformat": 4,
 "nbformat_minor": 1
}
