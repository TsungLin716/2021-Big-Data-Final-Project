{
 "cells": [
  {
   "cell_type": "markdown",
   "metadata": {
    "id": "LIlCvo3t9Y6K"
   },
   "source": [
    "# Group 11: DOB Job Application Filings - Data Profiling and Data Cleaning\n",
    "Team members: Peng-Yuan Chen (pc2973), Chun-Yen Liou (cyl625), Tsung-Lin Yang (ty2065)\n",
    "\n",
    "In the following we perform the data profiling and data cleaning on the dataset of [DOB Job Application Filings](https://data.cityofnewyork.us/Housing-Development/DOB-Job-Application-Filings/ic3t-wcy2).\n",
    "\n",
    "This dataset includes all the job applications submitted to Department of Buildings (DOB) through the Borough Offices, through eFiling, or through the HUB. It has a \"Latest Action Date\" since January 1, 2000. \n",
    "\n",
    "The dataset consists of over 1.77 million rows and the data file is about 1 GB in size. The dataset is available for download via the Socrata Open Data API (SODA)."
   ]
  },
  {
   "cell_type": "code",
   "execution_count": 1,
   "metadata": {
    "colab": {
     "base_uri": "https://localhost:8080/"
    },
    "id": "lDfChwnf_mnX",
    "outputId": "9b6a7473-a2c5-4c2f-80da-ce8ecf41ce70"
   },
   "outputs": [
    {
     "name": "stdout",
     "output_type": "stream",
     "text": [
      "Requirement already satisfied: openclean_notebook in /Library/Frameworks/Python.framework/Versions/3.9/lib/python3.9/site-packages (0.1.7)\n",
      "Requirement already satisfied: future in /Library/Frameworks/Python.framework/Versions/3.9/lib/python3.9/site-packages (from openclean_notebook) (0.18.2)\n",
      "Requirement already satisfied: jsonschema==3.2.0 in /Library/Frameworks/Python.framework/Versions/3.9/lib/python3.9/site-packages (from openclean_notebook) (3.2.0)\n",
      "Requirement already satisfied: openclean-core>=0.4.0 in /Library/Frameworks/Python.framework/Versions/3.9/lib/python3.9/site-packages (from openclean_notebook) (0.4.1)\n",
      "Requirement already satisfied: datamart-profiler==0.9 in /Library/Frameworks/Python.framework/Versions/3.9/lib/python3.9/site-packages (from openclean_notebook) (0.9)\n",
      "Requirement already satisfied: numpy in /Library/Frameworks/Python.framework/Versions/3.9/lib/python3.9/site-packages (from datamart-profiler==0.9->openclean_notebook) (1.21.4)\n",
      "Requirement already satisfied: regex in /Library/Frameworks/Python.framework/Versions/3.9/lib/python3.9/site-packages (from datamart-profiler==0.9->openclean_notebook) (2021.11.10)\n",
      "Requirement already satisfied: datamart-geo==0.2.1 in /Library/Frameworks/Python.framework/Versions/3.9/lib/python3.9/site-packages (from datamart-profiler==0.9->openclean_notebook) (0.2.1)\n",
      "Requirement already satisfied: scikit-learn<0.24,>=0.22 in /Library/Frameworks/Python.framework/Versions/3.9/lib/python3.9/site-packages (from datamart-profiler==0.9->openclean_notebook) (0.23.2)\n",
      "Requirement already satisfied: pandas in /Library/Frameworks/Python.framework/Versions/3.9/lib/python3.9/site-packages (from datamart-profiler==0.9->openclean_notebook) (1.3.4)\n",
      "Requirement already satisfied: python-dateutil in /Users/yangzonglin/Library/Python/3.9/lib/python/site-packages (from datamart-profiler==0.9->openclean_notebook) (2.8.2)\n",
      "Requirement already satisfied: prometheus-client in /Library/Frameworks/Python.framework/Versions/3.9/lib/python3.9/site-packages (from datamart-profiler==0.9->openclean_notebook) (0.12.0)\n",
      "Requirement already satisfied: requests in /Library/Frameworks/Python.framework/Versions/3.9/lib/python3.9/site-packages (from datamart-profiler==0.9->openclean_notebook) (2.26.0)\n",
      "Requirement already satisfied: pyrsistent>=0.14.0 in /Library/Frameworks/Python.framework/Versions/3.9/lib/python3.9/site-packages (from jsonschema==3.2.0->openclean_notebook) (0.18.0)\n",
      "Requirement already satisfied: setuptools in /Library/Frameworks/Python.framework/Versions/3.9/lib/python3.9/site-packages (from jsonschema==3.2.0->openclean_notebook) (57.4.0)\n",
      "Requirement already satisfied: six>=1.11.0 in /Users/yangzonglin/Library/Python/3.9/lib/python/site-packages (from jsonschema==3.2.0->openclean_notebook) (1.16.0)\n",
      "Requirement already satisfied: attrs>=17.4.0 in /Library/Frameworks/Python.framework/Versions/3.9/lib/python3.9/site-packages (from jsonschema==3.2.0->openclean_notebook) (21.2.0)\n",
      "Requirement already satisfied: flowserv-core>=0.8.0 in /Library/Frameworks/Python.framework/Versions/3.9/lib/python3.9/site-packages (from openclean-core>=0.4.0->openclean_notebook) (0.9.2)\n",
      "Requirement already satisfied: histore>=0.4.0 in /Library/Frameworks/Python.framework/Versions/3.9/lib/python3.9/site-packages (from openclean-core>=0.4.0->openclean_notebook) (0.4.1)\n",
      "Requirement already satisfied: dill in /Library/Frameworks/Python.framework/Versions/3.9/lib/python3.9/site-packages (from openclean-core>=0.4.0->openclean_notebook) (0.3.4)\n",
      "Requirement already satisfied: refdata>=0.2.0 in /Library/Frameworks/Python.framework/Versions/3.9/lib/python3.9/site-packages (from openclean-core>=0.4.0->openclean_notebook) (0.2.0)\n",
      "Requirement already satisfied: appdirs>=1.4.4 in /Library/Frameworks/Python.framework/Versions/3.9/lib/python3.9/site-packages (from openclean-core>=0.4.0->openclean_notebook) (1.4.4)\n",
      "Requirement already satisfied: scipy in /Library/Frameworks/Python.framework/Versions/3.9/lib/python3.9/site-packages (from openclean-core>=0.4.0->openclean_notebook) (1.7.2)\n",
      "Requirement already satisfied: jellyfish in /Library/Frameworks/Python.framework/Versions/3.9/lib/python3.9/site-packages (from openclean-core>=0.4.0->openclean_notebook) (0.8.9)\n",
      "Requirement already satisfied: paramiko in /Library/Frameworks/Python.framework/Versions/3.9/lib/python3.9/site-packages (from flowserv-core>=0.8.0->openclean-core>=0.4.0->openclean_notebook) (2.8.0)\n",
      "Requirement already satisfied: Click in /Library/Frameworks/Python.framework/Versions/3.9/lib/python3.9/site-packages (from flowserv-core>=0.8.0->openclean-core>=0.4.0->openclean_notebook) (8.0.3)\n",
      "Requirement already satisfied: passlib in /Library/Frameworks/Python.framework/Versions/3.9/lib/python3.9/site-packages (from flowserv-core>=0.8.0->openclean-core>=0.4.0->openclean_notebook) (1.7.4)\n",
      "Requirement already satisfied: pyyaml>=5.1 in /Library/Frameworks/Python.framework/Versions/3.9/lib/python3.9/site-packages (from flowserv-core>=0.8.0->openclean-core>=0.4.0->openclean_notebook) (5.4.1)\n",
      "Requirement already satisfied: pyyaml-include in /Library/Frameworks/Python.framework/Versions/3.9/lib/python3.9/site-packages (from flowserv-core>=0.8.0->openclean-core>=0.4.0->openclean_notebook) (1.2.post2)\n",
      "Requirement already satisfied: SQLAlchemy>=1.3.18 in /Library/Frameworks/Python.framework/Versions/3.9/lib/python3.9/site-packages (from flowserv-core>=0.8.0->openclean-core>=0.4.0->openclean_notebook) (1.4.27)\n",
      "Requirement already satisfied: gitpython in /Library/Frameworks/Python.framework/Versions/3.9/lib/python3.9/site-packages (from flowserv-core>=0.8.0->openclean-core>=0.4.0->openclean_notebook) (3.1.24)\n",
      "Requirement already satisfied: psutil in /Library/Frameworks/Python.framework/Versions/3.9/lib/python3.9/site-packages (from histore>=0.4.0->openclean-core>=0.4.0->openclean_notebook) (5.8.0)\n",
      "Requirement already satisfied: pytz>=2017.3 in /Library/Frameworks/Python.framework/Versions/3.9/lib/python3.9/site-packages (from pandas->datamart-profiler==0.9->openclean_notebook) (2021.3)\n",
      "Requirement already satisfied: pooch>=1.3.0 in /Library/Frameworks/Python.framework/Versions/3.9/lib/python3.9/site-packages (from refdata>=0.2.0->openclean-core>=0.4.0->openclean_notebook) (1.5.2)\n",
      "Requirement already satisfied: tableprint in /Library/Frameworks/Python.framework/Versions/3.9/lib/python3.9/site-packages (from refdata>=0.2.0->openclean-core>=0.4.0->openclean_notebook) (0.9.1)\n",
      "Requirement already satisfied: datasize>=1.0.0 in /Library/Frameworks/Python.framework/Versions/3.9/lib/python3.9/site-packages (from refdata>=0.2.0->openclean-core>=0.4.0->openclean_notebook) (1.0.0)\n",
      "Requirement already satisfied: packaging in /Library/Frameworks/Python.framework/Versions/3.9/lib/python3.9/site-packages (from pooch>=1.3.0->refdata>=0.2.0->openclean-core>=0.4.0->openclean_notebook) (21.3)\n",
      "Requirement already satisfied: threadpoolctl>=2.0.0 in /Library/Frameworks/Python.framework/Versions/3.9/lib/python3.9/site-packages (from scikit-learn<0.24,>=0.22->datamart-profiler==0.9->openclean_notebook) (3.0.0)\n",
      "Requirement already satisfied: joblib>=0.11 in /Library/Frameworks/Python.framework/Versions/3.9/lib/python3.9/site-packages (from scikit-learn<0.24,>=0.22->datamart-profiler==0.9->openclean_notebook) (1.1.0)\n",
      "Requirement already satisfied: greenlet!=0.4.17 in /Library/Frameworks/Python.framework/Versions/3.9/lib/python3.9/site-packages (from SQLAlchemy>=1.3.18->flowserv-core>=0.8.0->openclean-core>=0.4.0->openclean_notebook) (1.1.2)\n",
      "Requirement already satisfied: typing-extensions>=3.7.4.3 in /Library/Frameworks/Python.framework/Versions/3.9/lib/python3.9/site-packages (from gitpython->flowserv-core>=0.8.0->openclean-core>=0.4.0->openclean_notebook) (4.0.0)\n",
      "Requirement already satisfied: gitdb<5,>=4.0.1 in /Library/Frameworks/Python.framework/Versions/3.9/lib/python3.9/site-packages (from gitpython->flowserv-core>=0.8.0->openclean-core>=0.4.0->openclean_notebook) (4.0.9)\n",
      "Requirement already satisfied: smmap<6,>=3.0.1 in /Library/Frameworks/Python.framework/Versions/3.9/lib/python3.9/site-packages (from gitdb<5,>=4.0.1->gitpython->flowserv-core>=0.8.0->openclean-core>=0.4.0->openclean_notebook) (5.0.0)\n",
      "Requirement already satisfied: pyparsing!=3.0.5,>=2.0.2 in /Library/Frameworks/Python.framework/Versions/3.9/lib/python3.9/site-packages (from packaging->pooch>=1.3.0->refdata>=0.2.0->openclean-core>=0.4.0->openclean_notebook) (3.0.6)\n"
     ]
    },
    {
     "name": "stdout",
     "output_type": "stream",
     "text": [
      "Requirement already satisfied: bcrypt>=3.1.3 in /Library/Frameworks/Python.framework/Versions/3.9/lib/python3.9/site-packages (from paramiko->flowserv-core>=0.8.0->openclean-core>=0.4.0->openclean_notebook) (3.2.0)\n",
      "Requirement already satisfied: cryptography>=2.5 in /Library/Frameworks/Python.framework/Versions/3.9/lib/python3.9/site-packages (from paramiko->flowserv-core>=0.8.0->openclean-core>=0.4.0->openclean_notebook) (35.0.0)\n",
      "Requirement already satisfied: pynacl>=1.0.1 in /Library/Frameworks/Python.framework/Versions/3.9/lib/python3.9/site-packages (from paramiko->flowserv-core>=0.8.0->openclean-core>=0.4.0->openclean_notebook) (1.4.0)\n",
      "Requirement already satisfied: cffi>=1.1 in /Library/Frameworks/Python.framework/Versions/3.9/lib/python3.9/site-packages (from bcrypt>=3.1.3->paramiko->flowserv-core>=0.8.0->openclean-core>=0.4.0->openclean_notebook) (1.15.0)\n",
      "Requirement already satisfied: pycparser in /Library/Frameworks/Python.framework/Versions/3.9/lib/python3.9/site-packages (from cffi>=1.1->bcrypt>=3.1.3->paramiko->flowserv-core>=0.8.0->openclean-core>=0.4.0->openclean_notebook) (2.20)\n",
      "Requirement already satisfied: urllib3<1.27,>=1.21.1 in /Users/yangzonglin/Library/Python/3.9/lib/python/site-packages (from requests->datamart-profiler==0.9->openclean_notebook) (1.26.6)\n",
      "Requirement already satisfied: idna<4,>=2.5 in /Library/Frameworks/Python.framework/Versions/3.9/lib/python3.9/site-packages (from requests->datamart-profiler==0.9->openclean_notebook) (3.3)\n",
      "Requirement already satisfied: charset-normalizer~=2.0.0 in /Library/Frameworks/Python.framework/Versions/3.9/lib/python3.9/site-packages (from requests->datamart-profiler==0.9->openclean_notebook) (2.0.7)\n",
      "Requirement already satisfied: certifi>=2017.4.17 in /Library/Frameworks/Python.framework/Versions/3.9/lib/python3.9/site-packages (from requests->datamart-profiler==0.9->openclean_notebook) (2021.10.8)\n",
      "Requirement already satisfied: wcwidth in /Library/Frameworks/Python.framework/Versions/3.9/lib/python3.9/site-packages (from tableprint->refdata>=0.2.0->openclean-core>=0.4.0->openclean_notebook) (0.2.5)\n",
      "\u001b[33mWARNING: You are using pip version 21.2.4; however, version 21.3.1 is available.\n",
      "You should consider upgrading via the '/Library/Frameworks/Python.framework/Versions/3.9/bin/python3 -m pip install --upgrade pip' command.\u001b[0m\n",
      "Requirement already satisfied: openclean in /Library/Frameworks/Python.framework/Versions/3.9/lib/python3.9/site-packages (0.2.1)\n",
      "Requirement already satisfied: openclean-core==0.4.1 in /Library/Frameworks/Python.framework/Versions/3.9/lib/python3.9/site-packages (from openclean) (0.4.1)\n",
      "Requirement already satisfied: appdirs>=1.4.4 in /Library/Frameworks/Python.framework/Versions/3.9/lib/python3.9/site-packages (from openclean-core==0.4.1->openclean) (1.4.4)\n",
      "Requirement already satisfied: refdata>=0.2.0 in /Library/Frameworks/Python.framework/Versions/3.9/lib/python3.9/site-packages (from openclean-core==0.4.1->openclean) (0.2.0)\n",
      "Requirement already satisfied: scipy in /Library/Frameworks/Python.framework/Versions/3.9/lib/python3.9/site-packages (from openclean-core==0.4.1->openclean) (1.7.2)\n",
      "Requirement already satisfied: requests in /Library/Frameworks/Python.framework/Versions/3.9/lib/python3.9/site-packages (from openclean-core==0.4.1->openclean) (2.26.0)\n",
      "Requirement already satisfied: flowserv-core>=0.8.0 in /Library/Frameworks/Python.framework/Versions/3.9/lib/python3.9/site-packages (from openclean-core==0.4.1->openclean) (0.9.2)\n",
      "Requirement already satisfied: jellyfish in /Library/Frameworks/Python.framework/Versions/3.9/lib/python3.9/site-packages (from openclean-core==0.4.1->openclean) (0.8.9)\n",
      "Requirement already satisfied: dill in /Library/Frameworks/Python.framework/Versions/3.9/lib/python3.9/site-packages (from openclean-core==0.4.1->openclean) (0.3.4)\n",
      "Requirement already satisfied: histore>=0.4.0 in /Library/Frameworks/Python.framework/Versions/3.9/lib/python3.9/site-packages (from openclean-core==0.4.1->openclean) (0.4.1)\n",
      "Requirement already satisfied: python-dateutil in /Users/yangzonglin/Library/Python/3.9/lib/python/site-packages (from openclean-core==0.4.1->openclean) (2.8.2)\n",
      "Requirement already satisfied: future in /Library/Frameworks/Python.framework/Versions/3.9/lib/python3.9/site-packages (from openclean-core==0.4.1->openclean) (0.18.2)\n",
      "Requirement already satisfied: jsonschema>=3.2.0 in /Library/Frameworks/Python.framework/Versions/3.9/lib/python3.9/site-packages (from openclean-core==0.4.1->openclean) (3.2.0)\n",
      "Requirement already satisfied: scikit-learn in /Library/Frameworks/Python.framework/Versions/3.9/lib/python3.9/site-packages (from openclean-core==0.4.1->openclean) (0.23.2)\n",
      "Requirement already satisfied: pandas>=1.0.0 in /Library/Frameworks/Python.framework/Versions/3.9/lib/python3.9/site-packages (from openclean-core==0.4.1->openclean) (1.3.4)\n",
      "Requirement already satisfied: gitpython in /Library/Frameworks/Python.framework/Versions/3.9/lib/python3.9/site-packages (from flowserv-core>=0.8.0->openclean-core==0.4.1->openclean) (3.1.24)\n",
      "Requirement already satisfied: passlib in /Library/Frameworks/Python.framework/Versions/3.9/lib/python3.9/site-packages (from flowserv-core>=0.8.0->openclean-core==0.4.1->openclean) (1.7.4)\n",
      "Requirement already satisfied: pyyaml>=5.1 in /Library/Frameworks/Python.framework/Versions/3.9/lib/python3.9/site-packages (from flowserv-core>=0.8.0->openclean-core==0.4.1->openclean) (5.4.1)\n",
      "Requirement already satisfied: SQLAlchemy>=1.3.18 in /Library/Frameworks/Python.framework/Versions/3.9/lib/python3.9/site-packages (from flowserv-core>=0.8.0->openclean-core==0.4.1->openclean) (1.4.27)\n",
      "Requirement already satisfied: paramiko in /Library/Frameworks/Python.framework/Versions/3.9/lib/python3.9/site-packages (from flowserv-core>=0.8.0->openclean-core==0.4.1->openclean) (2.8.0)\n",
      "Requirement already satisfied: Click in /Library/Frameworks/Python.framework/Versions/3.9/lib/python3.9/site-packages (from flowserv-core>=0.8.0->openclean-core==0.4.1->openclean) (8.0.3)\n",
      "Requirement already satisfied: pyyaml-include in /Library/Frameworks/Python.framework/Versions/3.9/lib/python3.9/site-packages (from flowserv-core>=0.8.0->openclean-core==0.4.1->openclean) (1.2.post2)\n",
      "Requirement already satisfied: psutil in /Library/Frameworks/Python.framework/Versions/3.9/lib/python3.9/site-packages (from histore>=0.4.0->openclean-core==0.4.1->openclean) (5.8.0)\n",
      "Requirement already satisfied: setuptools in /Library/Frameworks/Python.framework/Versions/3.9/lib/python3.9/site-packages (from jsonschema>=3.2.0->openclean-core==0.4.1->openclean) (57.4.0)\n",
      "Requirement already satisfied: six>=1.11.0 in /Users/yangzonglin/Library/Python/3.9/lib/python/site-packages (from jsonschema>=3.2.0->openclean-core==0.4.1->openclean) (1.16.0)\n",
      "Requirement already satisfied: attrs>=17.4.0 in /Library/Frameworks/Python.framework/Versions/3.9/lib/python3.9/site-packages (from jsonschema>=3.2.0->openclean-core==0.4.1->openclean) (21.2.0)\n",
      "Requirement already satisfied: pyrsistent>=0.14.0 in /Library/Frameworks/Python.framework/Versions/3.9/lib/python3.9/site-packages (from jsonschema>=3.2.0->openclean-core==0.4.1->openclean) (0.18.0)\n",
      "Requirement already satisfied: pytz>=2017.3 in /Library/Frameworks/Python.framework/Versions/3.9/lib/python3.9/site-packages (from pandas>=1.0.0->openclean-core==0.4.1->openclean) (2021.3)\n",
      "Requirement already satisfied: numpy>=1.17.3 in /Library/Frameworks/Python.framework/Versions/3.9/lib/python3.9/site-packages (from pandas>=1.0.0->openclean-core==0.4.1->openclean) (1.21.4)\n",
      "Requirement already satisfied: datasize>=1.0.0 in /Library/Frameworks/Python.framework/Versions/3.9/lib/python3.9/site-packages (from refdata>=0.2.0->openclean-core==0.4.1->openclean) (1.0.0)\n",
      "Requirement already satisfied: pooch>=1.3.0 in /Library/Frameworks/Python.framework/Versions/3.9/lib/python3.9/site-packages (from refdata>=0.2.0->openclean-core==0.4.1->openclean) (1.5.2)\n",
      "Requirement already satisfied: tableprint in /Library/Frameworks/Python.framework/Versions/3.9/lib/python3.9/site-packages (from refdata>=0.2.0->openclean-core==0.4.1->openclean) (0.9.1)\n",
      "Requirement already satisfied: packaging in /Library/Frameworks/Python.framework/Versions/3.9/lib/python3.9/site-packages (from pooch>=1.3.0->refdata>=0.2.0->openclean-core==0.4.1->openclean) (21.3)\n"
     ]
    },
    {
     "name": "stdout",
     "output_type": "stream",
     "text": [
      "Requirement already satisfied: greenlet!=0.4.17 in /Library/Frameworks/Python.framework/Versions/3.9/lib/python3.9/site-packages (from SQLAlchemy>=1.3.18->flowserv-core>=0.8.0->openclean-core==0.4.1->openclean) (1.1.2)\n",
      "Requirement already satisfied: typing-extensions>=3.7.4.3 in /Library/Frameworks/Python.framework/Versions/3.9/lib/python3.9/site-packages (from gitpython->flowserv-core>=0.8.0->openclean-core==0.4.1->openclean) (4.0.0)\n",
      "Requirement already satisfied: gitdb<5,>=4.0.1 in /Library/Frameworks/Python.framework/Versions/3.9/lib/python3.9/site-packages (from gitpython->flowserv-core>=0.8.0->openclean-core==0.4.1->openclean) (4.0.9)\n",
      "Requirement already satisfied: smmap<6,>=3.0.1 in /Library/Frameworks/Python.framework/Versions/3.9/lib/python3.9/site-packages (from gitdb<5,>=4.0.1->gitpython->flowserv-core>=0.8.0->openclean-core==0.4.1->openclean) (5.0.0)\n",
      "Requirement already satisfied: pyparsing!=3.0.5,>=2.0.2 in /Library/Frameworks/Python.framework/Versions/3.9/lib/python3.9/site-packages (from packaging->pooch>=1.3.0->refdata>=0.2.0->openclean-core==0.4.1->openclean) (3.0.6)\n",
      "Requirement already satisfied: pynacl>=1.0.1 in /Library/Frameworks/Python.framework/Versions/3.9/lib/python3.9/site-packages (from paramiko->flowserv-core>=0.8.0->openclean-core==0.4.1->openclean) (1.4.0)\n",
      "Requirement already satisfied: bcrypt>=3.1.3 in /Library/Frameworks/Python.framework/Versions/3.9/lib/python3.9/site-packages (from paramiko->flowserv-core>=0.8.0->openclean-core==0.4.1->openclean) (3.2.0)\n",
      "Requirement already satisfied: cryptography>=2.5 in /Library/Frameworks/Python.framework/Versions/3.9/lib/python3.9/site-packages (from paramiko->flowserv-core>=0.8.0->openclean-core==0.4.1->openclean) (35.0.0)\n",
      "Requirement already satisfied: cffi>=1.1 in /Library/Frameworks/Python.framework/Versions/3.9/lib/python3.9/site-packages (from bcrypt>=3.1.3->paramiko->flowserv-core>=0.8.0->openclean-core==0.4.1->openclean) (1.15.0)\n",
      "Requirement already satisfied: pycparser in /Library/Frameworks/Python.framework/Versions/3.9/lib/python3.9/site-packages (from cffi>=1.1->bcrypt>=3.1.3->paramiko->flowserv-core>=0.8.0->openclean-core==0.4.1->openclean) (2.20)\n",
      "Requirement already satisfied: certifi>=2017.4.17 in /Library/Frameworks/Python.framework/Versions/3.9/lib/python3.9/site-packages (from requests->openclean-core==0.4.1->openclean) (2021.10.8)\n",
      "Requirement already satisfied: urllib3<1.27,>=1.21.1 in /Users/yangzonglin/Library/Python/3.9/lib/python/site-packages (from requests->openclean-core==0.4.1->openclean) (1.26.6)\n",
      "Requirement already satisfied: charset-normalizer~=2.0.0 in /Library/Frameworks/Python.framework/Versions/3.9/lib/python3.9/site-packages (from requests->openclean-core==0.4.1->openclean) (2.0.7)\n",
      "Requirement already satisfied: idna<4,>=2.5 in /Library/Frameworks/Python.framework/Versions/3.9/lib/python3.9/site-packages (from requests->openclean-core==0.4.1->openclean) (3.3)\n",
      "Requirement already satisfied: joblib>=0.11 in /Library/Frameworks/Python.framework/Versions/3.9/lib/python3.9/site-packages (from scikit-learn->openclean-core==0.4.1->openclean) (1.1.0)\n",
      "Requirement already satisfied: threadpoolctl>=2.0.0 in /Library/Frameworks/Python.framework/Versions/3.9/lib/python3.9/site-packages (from scikit-learn->openclean-core==0.4.1->openclean) (3.0.0)\n",
      "Requirement already satisfied: wcwidth in /Library/Frameworks/Python.framework/Versions/3.9/lib/python3.9/site-packages (from tableprint->refdata>=0.2.0->openclean-core==0.4.1->openclean) (0.2.5)\n",
      "\u001b[33mWARNING: You are using pip version 21.2.4; however, version 21.3.1 is available.\n",
      "You should consider upgrading via the '/Library/Frameworks/Python.framework/Versions/3.9/bin/python3 -m pip install --upgrade pip' command.\u001b[0m\n",
      "Requirement already satisfied: openclean_geo in /Library/Frameworks/Python.framework/Versions/3.9/lib/python3.9/site-packages (0.1.0)\n",
      "Requirement already satisfied: openclean-core>=0.3.0 in /Library/Frameworks/Python.framework/Versions/3.9/lib/python3.9/site-packages (from openclean_geo) (0.4.1)\n",
      "Requirement already satisfied: Shapely>=1.7.1 in /Library/Frameworks/Python.framework/Versions/3.9/lib/python3.9/site-packages (from openclean_geo) (1.8.0)\n",
      "Requirement already satisfied: python-dateutil in /Users/yangzonglin/Library/Python/3.9/lib/python/site-packages (from openclean-core>=0.3.0->openclean_geo) (2.8.2)\n",
      "Requirement already satisfied: scipy in /Library/Frameworks/Python.framework/Versions/3.9/lib/python3.9/site-packages (from openclean-core>=0.3.0->openclean_geo) (1.7.2)\n",
      "Requirement already satisfied: future in /Library/Frameworks/Python.framework/Versions/3.9/lib/python3.9/site-packages (from openclean-core>=0.3.0->openclean_geo) (0.18.2)\n",
      "Requirement already satisfied: requests in /Library/Frameworks/Python.framework/Versions/3.9/lib/python3.9/site-packages (from openclean-core>=0.3.0->openclean_geo) (2.26.0)\n",
      "Requirement already satisfied: refdata>=0.2.0 in /Library/Frameworks/Python.framework/Versions/3.9/lib/python3.9/site-packages (from openclean-core>=0.3.0->openclean_geo) (0.2.0)\n",
      "Requirement already satisfied: dill in /Library/Frameworks/Python.framework/Versions/3.9/lib/python3.9/site-packages (from openclean-core>=0.3.0->openclean_geo) (0.3.4)\n",
      "Requirement already satisfied: appdirs>=1.4.4 in /Library/Frameworks/Python.framework/Versions/3.9/lib/python3.9/site-packages (from openclean-core>=0.3.0->openclean_geo) (1.4.4)\n",
      "Requirement already satisfied: flowserv-core>=0.8.0 in /Library/Frameworks/Python.framework/Versions/3.9/lib/python3.9/site-packages (from openclean-core>=0.3.0->openclean_geo) (0.9.2)\n",
      "Requirement already satisfied: scikit-learn in /Library/Frameworks/Python.framework/Versions/3.9/lib/python3.9/site-packages (from openclean-core>=0.3.0->openclean_geo) (0.23.2)\n",
      "Requirement already satisfied: jsonschema>=3.2.0 in /Library/Frameworks/Python.framework/Versions/3.9/lib/python3.9/site-packages (from openclean-core>=0.3.0->openclean_geo) (3.2.0)\n",
      "Requirement already satisfied: histore>=0.4.0 in /Library/Frameworks/Python.framework/Versions/3.9/lib/python3.9/site-packages (from openclean-core>=0.3.0->openclean_geo) (0.4.1)\n",
      "Requirement already satisfied: pandas>=1.0.0 in /Library/Frameworks/Python.framework/Versions/3.9/lib/python3.9/site-packages (from openclean-core>=0.3.0->openclean_geo) (1.3.4)\n",
      "Requirement already satisfied: jellyfish in /Library/Frameworks/Python.framework/Versions/3.9/lib/python3.9/site-packages (from openclean-core>=0.3.0->openclean_geo) (0.8.9)\n",
      "Requirement already satisfied: SQLAlchemy>=1.3.18 in /Library/Frameworks/Python.framework/Versions/3.9/lib/python3.9/site-packages (from flowserv-core>=0.8.0->openclean-core>=0.3.0->openclean_geo) (1.4.27)\n",
      "Requirement already satisfied: gitpython in /Library/Frameworks/Python.framework/Versions/3.9/lib/python3.9/site-packages (from flowserv-core>=0.8.0->openclean-core>=0.3.0->openclean_geo) (3.1.24)\n",
      "Requirement already satisfied: passlib in /Library/Frameworks/Python.framework/Versions/3.9/lib/python3.9/site-packages (from flowserv-core>=0.8.0->openclean-core>=0.3.0->openclean_geo) (1.7.4)\n",
      "Requirement already satisfied: pyyaml-include in /Library/Frameworks/Python.framework/Versions/3.9/lib/python3.9/site-packages (from flowserv-core>=0.8.0->openclean-core>=0.3.0->openclean_geo) (1.2.post2)\n",
      "Requirement already satisfied: paramiko in /Library/Frameworks/Python.framework/Versions/3.9/lib/python3.9/site-packages (from flowserv-core>=0.8.0->openclean-core>=0.3.0->openclean_geo) (2.8.0)\n",
      "Requirement already satisfied: pyyaml>=5.1 in /Library/Frameworks/Python.framework/Versions/3.9/lib/python3.9/site-packages (from flowserv-core>=0.8.0->openclean-core>=0.3.0->openclean_geo) (5.4.1)\n",
      "Requirement already satisfied: Click in /Library/Frameworks/Python.framework/Versions/3.9/lib/python3.9/site-packages (from flowserv-core>=0.8.0->openclean-core>=0.3.0->openclean_geo) (8.0.3)\n",
      "Requirement already satisfied: psutil in /Library/Frameworks/Python.framework/Versions/3.9/lib/python3.9/site-packages (from histore>=0.4.0->openclean-core>=0.3.0->openclean_geo) (5.8.0)\n",
      "Requirement already satisfied: pyrsistent>=0.14.0 in /Library/Frameworks/Python.framework/Versions/3.9/lib/python3.9/site-packages (from jsonschema>=3.2.0->openclean-core>=0.3.0->openclean_geo) (0.18.0)\n",
      "Requirement already satisfied: attrs>=17.4.0 in /Library/Frameworks/Python.framework/Versions/3.9/lib/python3.9/site-packages (from jsonschema>=3.2.0->openclean-core>=0.3.0->openclean_geo) (21.2.0)\n",
      "Requirement already satisfied: six>=1.11.0 in /Users/yangzonglin/Library/Python/3.9/lib/python/site-packages (from jsonschema>=3.2.0->openclean-core>=0.3.0->openclean_geo) (1.16.0)\n",
      "Requirement already satisfied: setuptools in /Library/Frameworks/Python.framework/Versions/3.9/lib/python3.9/site-packages (from jsonschema>=3.2.0->openclean-core>=0.3.0->openclean_geo) (57.4.0)\n"
     ]
    },
    {
     "name": "stdout",
     "output_type": "stream",
     "text": [
      "Requirement already satisfied: numpy>=1.17.3 in /Library/Frameworks/Python.framework/Versions/3.9/lib/python3.9/site-packages (from pandas>=1.0.0->openclean-core>=0.3.0->openclean_geo) (1.21.4)\n",
      "Requirement already satisfied: pytz>=2017.3 in /Library/Frameworks/Python.framework/Versions/3.9/lib/python3.9/site-packages (from pandas>=1.0.0->openclean-core>=0.3.0->openclean_geo) (2021.3)\n",
      "Requirement already satisfied: pooch>=1.3.0 in /Library/Frameworks/Python.framework/Versions/3.9/lib/python3.9/site-packages (from refdata>=0.2.0->openclean-core>=0.3.0->openclean_geo) (1.5.2)\n",
      "Requirement already satisfied: datasize>=1.0.0 in /Library/Frameworks/Python.framework/Versions/3.9/lib/python3.9/site-packages (from refdata>=0.2.0->openclean-core>=0.3.0->openclean_geo) (1.0.0)\n",
      "Requirement already satisfied: tableprint in /Library/Frameworks/Python.framework/Versions/3.9/lib/python3.9/site-packages (from refdata>=0.2.0->openclean-core>=0.3.0->openclean_geo) (0.9.1)\n",
      "Requirement already satisfied: packaging in /Library/Frameworks/Python.framework/Versions/3.9/lib/python3.9/site-packages (from pooch>=1.3.0->refdata>=0.2.0->openclean-core>=0.3.0->openclean_geo) (21.3)\n",
      "Requirement already satisfied: greenlet!=0.4.17 in /Library/Frameworks/Python.framework/Versions/3.9/lib/python3.9/site-packages (from SQLAlchemy>=1.3.18->flowserv-core>=0.8.0->openclean-core>=0.3.0->openclean_geo) (1.1.2)\n",
      "Requirement already satisfied: gitdb<5,>=4.0.1 in /Library/Frameworks/Python.framework/Versions/3.9/lib/python3.9/site-packages (from gitpython->flowserv-core>=0.8.0->openclean-core>=0.3.0->openclean_geo) (4.0.9)\n",
      "Requirement already satisfied: typing-extensions>=3.7.4.3 in /Library/Frameworks/Python.framework/Versions/3.9/lib/python3.9/site-packages (from gitpython->flowserv-core>=0.8.0->openclean-core>=0.3.0->openclean_geo) (4.0.0)\n",
      "Requirement already satisfied: smmap<6,>=3.0.1 in /Library/Frameworks/Python.framework/Versions/3.9/lib/python3.9/site-packages (from gitdb<5,>=4.0.1->gitpython->flowserv-core>=0.8.0->openclean-core>=0.3.0->openclean_geo) (5.0.0)\n",
      "Requirement already satisfied: pyparsing!=3.0.5,>=2.0.2 in /Library/Frameworks/Python.framework/Versions/3.9/lib/python3.9/site-packages (from packaging->pooch>=1.3.0->refdata>=0.2.0->openclean-core>=0.3.0->openclean_geo) (3.0.6)\n",
      "Requirement already satisfied: cryptography>=2.5 in /Library/Frameworks/Python.framework/Versions/3.9/lib/python3.9/site-packages (from paramiko->flowserv-core>=0.8.0->openclean-core>=0.3.0->openclean_geo) (35.0.0)\n",
      "Requirement already satisfied: bcrypt>=3.1.3 in /Library/Frameworks/Python.framework/Versions/3.9/lib/python3.9/site-packages (from paramiko->flowserv-core>=0.8.0->openclean-core>=0.3.0->openclean_geo) (3.2.0)\n",
      "Requirement already satisfied: pynacl>=1.0.1 in /Library/Frameworks/Python.framework/Versions/3.9/lib/python3.9/site-packages (from paramiko->flowserv-core>=0.8.0->openclean-core>=0.3.0->openclean_geo) (1.4.0)\n",
      "Requirement already satisfied: cffi>=1.1 in /Library/Frameworks/Python.framework/Versions/3.9/lib/python3.9/site-packages (from bcrypt>=3.1.3->paramiko->flowserv-core>=0.8.0->openclean-core>=0.3.0->openclean_geo) (1.15.0)\n",
      "Requirement already satisfied: pycparser in /Library/Frameworks/Python.framework/Versions/3.9/lib/python3.9/site-packages (from cffi>=1.1->bcrypt>=3.1.3->paramiko->flowserv-core>=0.8.0->openclean-core>=0.3.0->openclean_geo) (2.20)\n",
      "Requirement already satisfied: charset-normalizer~=2.0.0 in /Library/Frameworks/Python.framework/Versions/3.9/lib/python3.9/site-packages (from requests->openclean-core>=0.3.0->openclean_geo) (2.0.7)\n",
      "Requirement already satisfied: idna<4,>=2.5 in /Library/Frameworks/Python.framework/Versions/3.9/lib/python3.9/site-packages (from requests->openclean-core>=0.3.0->openclean_geo) (3.3)\n",
      "Requirement already satisfied: urllib3<1.27,>=1.21.1 in /Users/yangzonglin/Library/Python/3.9/lib/python/site-packages (from requests->openclean-core>=0.3.0->openclean_geo) (1.26.6)\n",
      "Requirement already satisfied: certifi>=2017.4.17 in /Library/Frameworks/Python.framework/Versions/3.9/lib/python3.9/site-packages (from requests->openclean-core>=0.3.0->openclean_geo) (2021.10.8)\n",
      "Requirement already satisfied: threadpoolctl>=2.0.0 in /Library/Frameworks/Python.framework/Versions/3.9/lib/python3.9/site-packages (from scikit-learn->openclean-core>=0.3.0->openclean_geo) (3.0.0)\n",
      "Requirement already satisfied: joblib>=0.11 in /Library/Frameworks/Python.framework/Versions/3.9/lib/python3.9/site-packages (from scikit-learn->openclean-core>=0.3.0->openclean_geo) (1.1.0)\n",
      "Requirement already satisfied: wcwidth in /Library/Frameworks/Python.framework/Versions/3.9/lib/python3.9/site-packages (from tableprint->refdata>=0.2.0->openclean-core>=0.3.0->openclean_geo) (0.2.5)\n",
      "\u001b[33mWARNING: You are using pip version 21.2.4; however, version 21.3.1 is available.\n",
      "You should consider upgrading via the '/Library/Frameworks/Python.framework/Versions/3.9/bin/python3 -m pip install --upgrade pip' command.\u001b[0m\n"
     ]
    }
   ],
   "source": [
    "# Since we are using Google Colab, we have to first install openclean library.\n",
    "!pip install openclean_notebook\n",
    "!pip install openclean\n",
    "!pip install openclean_geo"
   ]
  },
  {
   "cell_type": "code",
   "execution_count": 2,
   "metadata": {
    "id": "5JU8eKIg-98Z"
   },
   "outputs": [],
   "source": [
    "# Import necessary libraries\n",
    "import os\n",
    "import requests\n",
    "from openclean.pipeline import stream\n",
    "import pandas as pd\n",
    "\n",
    "\n",
    "# Download the full 'DOB Job Application Filings' dataset.\n",
    "csvPath = './8fei-z6rz.csv'\n",
    "csvPath_new = './8fei-z6rz_raw.csv'\n",
    "if not os.path.isfile(csvPath):\n",
    "  csvUrl = \"https://data.cityofnewyork.us/api/views/8fei-z6rz/rows.csv\"\n",
    "  req = requests.get(csvUrl)\n",
    "  url_content = req.content\n",
    "  outfile = open(csvPath, 'wb')\n",
    "  outfile.write(url_content)\n",
    "  outfile.close()\n",
    "\n",
    "ds_Full = pd.read_csv(csvPath, nrows=2)\n",
    "ds_Full.to_csv('./8fei-z6rz_raw.csv', encoding='utf-8', index=False)"
   ]
  },
  {
   "cell_type": "markdown",
   "metadata": {
    "id": "5uZH4cw8ETQg"
   },
   "source": [
    "# Data Profiling\n",
    "\n",
    "Let's first do some preliminary profiling on the dataset so that we can gain some insight about the data."
   ]
  },
  {
   "cell_type": "code",
   "execution_count": 3,
   "metadata": {
    "colab": {
     "base_uri": "https://localhost:8080/"
    },
    "id": "s3ZU0-oV_YN8",
    "outputId": "cff2e2f2-4e6c-416c-e42c-b8ca54c81c63"
   },
   "outputs": [],
   "source": [
    "# Do the preliminary profiling\n",
    "from openclean.profiling.column import DefaultColumnProfiler\n",
    "\n",
    "ds_Full = stream(csvPath_new)\n",
    "profiles = ds_Full.profile(default_profiler=DefaultColumnProfiler)"
   ]
  },
  {
   "cell_type": "code",
   "execution_count": 4,
   "metadata": {
    "colab": {
     "base_uri": "https://localhost:8080/"
    },
    "id": "372WttOtgOoH",
    "outputId": "38c78f0d-8fd2-4142-e94c-cae25f5cd969"
   },
   "outputs": [
    {
     "data": {
      "text/plain": [
       "['Record ID',\n",
       " 'Business Name',\n",
       " 'Industry',\n",
       " 'Certificate Number',\n",
       " 'Inspection Date',\n",
       " 'Inspection Result',\n",
       " 'Test Type',\n",
       " 'Approved',\n",
       " 'Condemned',\n",
       " 'Confiscated',\n",
       " 'Notes',\n",
       " 'Building Number',\n",
       " 'Street',\n",
       " 'City',\n",
       " 'State',\n",
       " 'Zip',\n",
       " 'Unit',\n",
       " 'Longitude',\n",
       " 'Latitude']"
      ]
     },
     "execution_count": 4,
     "metadata": {},
     "output_type": "execute_result"
    }
   ],
   "source": [
    "# Take a look at the column names in this dataset\n",
    "ds_Full.columns"
   ]
  },
  {
   "cell_type": "code",
   "execution_count": 5,
   "metadata": {
    "colab": {
     "base_uri": "https://localhost:8080/",
     "height": 1000
    },
    "id": "aEPZsZKFglVX",
    "outputId": "ae3fbbf2-d5cb-4719-fd08-6df2b179ba84"
   },
   "outputs": [
    {
     "data": {
      "text/html": [
       "<div>\n",
       "<style scoped>\n",
       "    .dataframe tbody tr th:only-of-type {\n",
       "        vertical-align: middle;\n",
       "    }\n",
       "\n",
       "    .dataframe tbody tr th {\n",
       "        vertical-align: top;\n",
       "    }\n",
       "\n",
       "    .dataframe thead th {\n",
       "        text-align: right;\n",
       "    }\n",
       "</style>\n",
       "<table border=\"1\" class=\"dataframe\">\n",
       "  <thead>\n",
       "    <tr style=\"text-align: right;\">\n",
       "      <th></th>\n",
       "      <th>Record ID</th>\n",
       "      <th>Business Name</th>\n",
       "      <th>Industry</th>\n",
       "      <th>Certificate Number</th>\n",
       "      <th>Inspection Date</th>\n",
       "      <th>Inspection Result</th>\n",
       "      <th>Test Type</th>\n",
       "      <th>Approved</th>\n",
       "      <th>Condemned</th>\n",
       "      <th>Confiscated</th>\n",
       "      <th>Notes</th>\n",
       "      <th>Building Number</th>\n",
       "      <th>Street</th>\n",
       "      <th>City</th>\n",
       "      <th>State</th>\n",
       "      <th>Zip</th>\n",
       "      <th>Unit</th>\n",
       "      <th>Longitude</th>\n",
       "      <th>Latitude</th>\n",
       "    </tr>\n",
       "  </thead>\n",
       "  <tbody>\n",
       "    <tr>\n",
       "      <th>0</th>\n",
       "      <td>32262-2020-ENFO</td>\n",
       "      <td>1750 WALTON LAUNDROMAT CORP</td>\n",
       "      <td>Laundries</td>\n",
       "      <td>A0012847</td>\n",
       "      <td>12/14/2020</td>\n",
       "      <td>Pass</td>\n",
       "      <td>SCALE TO 661 LBS-02</td>\n",
       "      <td>1</td>\n",
       "      <td>0</td>\n",
       "      <td>0</td>\n",
       "      <td></td>\n",
       "      <td>1750</td>\n",
       "      <td>WALTON AVE</td>\n",
       "      <td>BRONX</td>\n",
       "      <td>NY</td>\n",
       "      <td>10453</td>\n",
       "      <td></td>\n",
       "      <td>-77.51985087626232</td>\n",
       "      <td>40.11248699222675</td>\n",
       "    </tr>\n",
       "    <tr>\n",
       "      <th>1</th>\n",
       "      <td>16390-2019-ENFO</td>\n",
       "      <td>THE TJX COMPANIES, INC.</td>\n",
       "      <td>Megastore - 821</td>\n",
       "      <td>03088329</td>\n",
       "      <td>03/19/2019</td>\n",
       "      <td>Pass</td>\n",
       "      <td>SCANNER-69</td>\n",
       "      <td>9</td>\n",
       "      <td>1</td>\n",
       "      <td>0</td>\n",
       "      <td></td>\n",
       "      <td>410</td>\n",
       "      <td>GATEWAY DR</td>\n",
       "      <td>BROOKLYN</td>\n",
       "      <td>NY</td>\n",
       "      <td>11239</td>\n",
       "      <td></td>\n",
       "      <td>-73.87705635618526</td>\n",
       "      <td>40.652876989285126</td>\n",
       "    </tr>\n",
       "  </tbody>\n",
       "</table>\n",
       "</div>"
      ],
      "text/plain": [
       "         Record ID                Business Name         Industry  \\\n",
       "0  32262-2020-ENFO  1750 WALTON LAUNDROMAT CORP        Laundries   \n",
       "1  16390-2019-ENFO      THE TJX COMPANIES, INC.  Megastore - 821   \n",
       "\n",
       "  Certificate Number Inspection Date Inspection Result            Test Type  \\\n",
       "0           A0012847      12/14/2020              Pass  SCALE TO 661 LBS-02   \n",
       "1           03088329      03/19/2019              Pass           SCANNER-69   \n",
       "\n",
       "  Approved Condemned Confiscated Notes Building Number      Street      City  \\\n",
       "0        1         0           0                  1750  WALTON AVE     BRONX   \n",
       "1        9         1           0                   410  GATEWAY DR  BROOKLYN   \n",
       "\n",
       "  State    Zip Unit           Longitude            Latitude  \n",
       "0    NY  10453       -77.51985087626232   40.11248699222675  \n",
       "1    NY  11239       -73.87705635618526  40.652876989285126  "
      ]
     },
     "execution_count": 5,
     "metadata": {},
     "output_type": "execute_result"
    }
   ],
   "source": [
    "# Take a look at the first 10 rows\n",
    "ds_Full.head()"
   ]
  },
  {
   "cell_type": "code",
   "execution_count": 6,
   "metadata": {
    "colab": {
     "base_uri": "https://localhost:8080/"
    },
    "id": "R1ODbW94gsR4",
    "outputId": "d7119164-a1e7-4c19-ef10-920f8a3645e8"
   },
   "outputs": [
    {
     "data": {
      "text/plain": [
       "2"
      ]
     },
     "execution_count": 6,
     "metadata": {},
     "output_type": "execute_result"
    }
   ],
   "source": [
    "# See how many rows are there in this dataset\n",
    "ds_Full.count()"
   ]
  },
  {
   "cell_type": "code",
   "execution_count": 7,
   "metadata": {
    "colab": {
     "base_uri": "https://localhost:8080/"
    },
    "id": "gjqK1iL3AzmV",
    "outputId": "f22034bf-94d0-4e1c-85b8-33f9f86d59b1"
   },
   "outputs": [
    {
     "data": {
      "text/plain": [
       "[{'column': 'Record ID',\n",
       "  'stats': {'totalValueCount': 2,\n",
       "   'emptyValueCount': 0,\n",
       "   'datatypes': defaultdict(collections.Counter,\n",
       "               {'total': Counter({'str': 2}),\n",
       "                'distinct': Counter({'str': 2})}),\n",
       "   'minmaxValues': {'str': {'minimum': '16390-2019-ENFO',\n",
       "     'maximum': '32262-2020-ENFO'}},\n",
       "   'distinctValueCount': 2,\n",
       "   'entropy': 1.0,\n",
       "   'topValues': [('32262-2020-ENFO', 1), ('16390-2019-ENFO', 1)]}},\n",
       " {'column': 'Business Name',\n",
       "  'stats': {'totalValueCount': 2,\n",
       "   'emptyValueCount': 0,\n",
       "   'datatypes': defaultdict(collections.Counter,\n",
       "               {'total': Counter({'str': 2}),\n",
       "                'distinct': Counter({'str': 2})}),\n",
       "   'minmaxValues': {'str': {'minimum': '1750 WALTON LAUNDROMAT CORP',\n",
       "     'maximum': 'THE TJX COMPANIES, INC.'}},\n",
       "   'distinctValueCount': 2,\n",
       "   'entropy': 1.0,\n",
       "   'topValues': [('1750 WALTON LAUNDROMAT CORP', 1),\n",
       "    ('THE TJX COMPANIES, INC.', 1)]}},\n",
       " {'column': 'Industry',\n",
       "  'stats': {'totalValueCount': 2,\n",
       "   'emptyValueCount': 0,\n",
       "   'datatypes': defaultdict(collections.Counter,\n",
       "               {'total': Counter({'str': 2}),\n",
       "                'distinct': Counter({'str': 2})}),\n",
       "   'minmaxValues': {'str': {'minimum': 'Laundries',\n",
       "     'maximum': 'Megastore - 821'}},\n",
       "   'distinctValueCount': 2,\n",
       "   'entropy': 1.0,\n",
       "   'topValues': [('Laundries', 1), ('Megastore - 821', 1)]}},\n",
       " {'column': 'Certificate Number',\n",
       "  'stats': {'totalValueCount': 2,\n",
       "   'emptyValueCount': 0,\n",
       "   'datatypes': defaultdict(collections.Counter,\n",
       "               {'total': Counter({'str': 1, 'int': 1}),\n",
       "                'distinct': Counter({'str': 1, 'int': 1})}),\n",
       "   'minmaxValues': {'str': {'minimum': 'A0012847', 'maximum': 'A0012847'},\n",
       "    'int': {'minimum': 3088329, 'maximum': 3088329}},\n",
       "   'distinctValueCount': 2,\n",
       "   'entropy': 1.0,\n",
       "   'topValues': [('A0012847', 1), ('03088329', 1)]}},\n",
       " {'column': 'Inspection Date',\n",
       "  'stats': {'totalValueCount': 2,\n",
       "   'emptyValueCount': 0,\n",
       "   'datatypes': defaultdict(collections.Counter,\n",
       "               {'total': Counter({'date': 2}),\n",
       "                'distinct': Counter({'date': 2})}),\n",
       "   'minmaxValues': {'date': {'minimum': datetime.datetime(2019, 3, 19, 0, 0),\n",
       "     'maximum': datetime.datetime(2020, 12, 14, 0, 0)}},\n",
       "   'distinctValueCount': 2,\n",
       "   'entropy': 1.0,\n",
       "   'topValues': [('12/14/2020', 1), ('03/19/2019', 1)]}},\n",
       " {'column': 'Inspection Result',\n",
       "  'stats': {'totalValueCount': 2,\n",
       "   'emptyValueCount': 0,\n",
       "   'datatypes': defaultdict(collections.Counter,\n",
       "               {'total': Counter({'str': 2}),\n",
       "                'distinct': Counter({'str': 1})}),\n",
       "   'minmaxValues': {'str': {'minimum': 'Pass', 'maximum': 'Pass'}},\n",
       "   'distinctValueCount': 1,\n",
       "   'entropy': 0.0,\n",
       "   'topValues': [('Pass', 2)]}},\n",
       " {'column': 'Test Type',\n",
       "  'stats': {'totalValueCount': 2,\n",
       "   'emptyValueCount': 0,\n",
       "   'datatypes': defaultdict(collections.Counter,\n",
       "               {'total': Counter({'str': 2}),\n",
       "                'distinct': Counter({'str': 2})}),\n",
       "   'minmaxValues': {'str': {'minimum': 'SCALE TO 661 LBS-02',\n",
       "     'maximum': 'SCANNER-69'}},\n",
       "   'distinctValueCount': 2,\n",
       "   'entropy': 1.0,\n",
       "   'topValues': [('SCALE TO 661 LBS-02', 1), ('SCANNER-69', 1)]}},\n",
       " {'column': 'Approved',\n",
       "  'stats': {'totalValueCount': 2,\n",
       "   'emptyValueCount': 0,\n",
       "   'datatypes': defaultdict(collections.Counter,\n",
       "               {'total': Counter({'int': 2}),\n",
       "                'distinct': Counter({'int': 2})}),\n",
       "   'minmaxValues': {'int': {'minimum': 1, 'maximum': 9}},\n",
       "   'distinctValueCount': 2,\n",
       "   'entropy': 1.0,\n",
       "   'topValues': [('1', 1), ('9', 1)]}},\n",
       " {'column': 'Condemned',\n",
       "  'stats': {'totalValueCount': 2,\n",
       "   'emptyValueCount': 0,\n",
       "   'datatypes': defaultdict(collections.Counter,\n",
       "               {'total': Counter({'int': 2}),\n",
       "                'distinct': Counter({'int': 2})}),\n",
       "   'minmaxValues': {'int': {'minimum': 0, 'maximum': 1}},\n",
       "   'distinctValueCount': 2,\n",
       "   'entropy': 1.0,\n",
       "   'topValues': [('0', 1), ('1', 1)]}},\n",
       " {'column': 'Confiscated',\n",
       "  'stats': {'totalValueCount': 2,\n",
       "   'emptyValueCount': 0,\n",
       "   'datatypes': defaultdict(collections.Counter,\n",
       "               {'total': Counter({'int': 2}),\n",
       "                'distinct': Counter({'int': 1})}),\n",
       "   'minmaxValues': {'int': {'minimum': 0, 'maximum': 0}},\n",
       "   'distinctValueCount': 1,\n",
       "   'entropy': 0.0,\n",
       "   'topValues': [('0', 2)]}},\n",
       " {'column': 'Notes',\n",
       "  'stats': {'totalValueCount': 2,\n",
       "   'emptyValueCount': 2,\n",
       "   'datatypes': defaultdict(collections.Counter, {}),\n",
       "   'minmaxValues': {},\n",
       "   'distinctValueCount': 0,\n",
       "   'entropy': None,\n",
       "   'topValues': []}},\n",
       " {'column': 'Building Number',\n",
       "  'stats': {'totalValueCount': 2,\n",
       "   'emptyValueCount': 0,\n",
       "   'datatypes': defaultdict(collections.Counter,\n",
       "               {'total': Counter({'int': 2}),\n",
       "                'distinct': Counter({'int': 2})}),\n",
       "   'minmaxValues': {'int': {'minimum': 410, 'maximum': 1750}},\n",
       "   'distinctValueCount': 2,\n",
       "   'entropy': 1.0,\n",
       "   'topValues': [('1750', 1), ('410', 1)]}},\n",
       " {'column': 'Street',\n",
       "  'stats': {'totalValueCount': 2,\n",
       "   'emptyValueCount': 0,\n",
       "   'datatypes': defaultdict(collections.Counter,\n",
       "               {'total': Counter({'str': 2}),\n",
       "                'distinct': Counter({'str': 2})}),\n",
       "   'minmaxValues': {'str': {'minimum': 'GATEWAY DR', 'maximum': 'WALTON AVE'}},\n",
       "   'distinctValueCount': 2,\n",
       "   'entropy': 1.0,\n",
       "   'topValues': [('WALTON AVE', 1), ('GATEWAY DR', 1)]}},\n",
       " {'column': 'City',\n",
       "  'stats': {'totalValueCount': 2,\n",
       "   'emptyValueCount': 0,\n",
       "   'datatypes': defaultdict(collections.Counter,\n",
       "               {'total': Counter({'str': 2}),\n",
       "                'distinct': Counter({'str': 2})}),\n",
       "   'minmaxValues': {'str': {'minimum': 'BRONX', 'maximum': 'BROOKLYN'}},\n",
       "   'distinctValueCount': 2,\n",
       "   'entropy': 1.0,\n",
       "   'topValues': [('BRONX', 1), ('BROOKLYN', 1)]}},\n",
       " {'column': 'State',\n",
       "  'stats': {'totalValueCount': 2,\n",
       "   'emptyValueCount': 0,\n",
       "   'datatypes': defaultdict(collections.Counter,\n",
       "               {'total': Counter({'str': 2}),\n",
       "                'distinct': Counter({'str': 1})}),\n",
       "   'minmaxValues': {'str': {'minimum': 'NY', 'maximum': 'NY'}},\n",
       "   'distinctValueCount': 1,\n",
       "   'entropy': 0.0,\n",
       "   'topValues': [('NY', 2)]}},\n",
       " {'column': 'Zip',\n",
       "  'stats': {'totalValueCount': 2,\n",
       "   'emptyValueCount': 0,\n",
       "   'datatypes': defaultdict(collections.Counter,\n",
       "               {'total': Counter({'int': 2}),\n",
       "                'distinct': Counter({'int': 2})}),\n",
       "   'minmaxValues': {'int': {'minimum': 10453, 'maximum': 11239}},\n",
       "   'distinctValueCount': 2,\n",
       "   'entropy': 1.0,\n",
       "   'topValues': [('10453', 1), ('11239', 1)]}},\n",
       " {'column': 'Unit',\n",
       "  'stats': {'totalValueCount': 2,\n",
       "   'emptyValueCount': 2,\n",
       "   'datatypes': defaultdict(collections.Counter, {}),\n",
       "   'minmaxValues': {},\n",
       "   'distinctValueCount': 0,\n",
       "   'entropy': None,\n",
       "   'topValues': []}},\n",
       " {'column': 'Longitude',\n",
       "  'stats': {'totalValueCount': 2,\n",
       "   'emptyValueCount': 0,\n",
       "   'datatypes': defaultdict(collections.Counter,\n",
       "               {'total': Counter({'float': 2}),\n",
       "                'distinct': Counter({'float': 2})}),\n",
       "   'minmaxValues': {'float': {'minimum': -77.51985087626232,\n",
       "     'maximum': -73.87705635618526}},\n",
       "   'distinctValueCount': 2,\n",
       "   'entropy': 1.0,\n",
       "   'topValues': [('-77.51985087626232', 1), ('-73.87705635618526', 1)]}},\n",
       " {'column': 'Latitude',\n",
       "  'stats': {'totalValueCount': 2,\n",
       "   'emptyValueCount': 0,\n",
       "   'datatypes': defaultdict(collections.Counter,\n",
       "               {'total': Counter({'float': 2}),\n",
       "                'distinct': Counter({'float': 2})}),\n",
       "   'minmaxValues': {'float': {'minimum': 40.11248699222675,\n",
       "     'maximum': 40.652876989285126}},\n",
       "   'distinctValueCount': 2,\n",
       "   'entropy': 1.0,\n",
       "   'topValues': [('40.11248699222675', 1), ('40.652876989285126', 1)]}}]"
      ]
     },
     "execution_count": 7,
     "metadata": {},
     "output_type": "execute_result"
    }
   ],
   "source": [
    "# Output the profiling result\n",
    "profiles"
   ]
  },
  {
   "cell_type": "code",
   "execution_count": 8,
   "metadata": {
    "colab": {
     "base_uri": "https://localhost:8080/",
     "height": 1000
    },
    "id": "9TNhX0vdfoIM",
    "outputId": "d0f94fd2-f885-43cf-e7fb-73af8b61e85c"
   },
   "outputs": [
    {
     "data": {
      "text/html": [
       "<div>\n",
       "<style scoped>\n",
       "    .dataframe tbody tr th:only-of-type {\n",
       "        vertical-align: middle;\n",
       "    }\n",
       "\n",
       "    .dataframe tbody tr th {\n",
       "        vertical-align: top;\n",
       "    }\n",
       "\n",
       "    .dataframe thead th {\n",
       "        text-align: right;\n",
       "    }\n",
       "</style>\n",
       "<table border=\"1\" class=\"dataframe\">\n",
       "  <thead>\n",
       "    <tr style=\"text-align: right;\">\n",
       "      <th></th>\n",
       "      <th>total</th>\n",
       "      <th>empty</th>\n",
       "      <th>distinct</th>\n",
       "      <th>uniqueness</th>\n",
       "      <th>entropy</th>\n",
       "    </tr>\n",
       "  </thead>\n",
       "  <tbody>\n",
       "    <tr>\n",
       "      <th>Record ID</th>\n",
       "      <td>2</td>\n",
       "      <td>0</td>\n",
       "      <td>2</td>\n",
       "      <td>1.0</td>\n",
       "      <td>1.0</td>\n",
       "    </tr>\n",
       "    <tr>\n",
       "      <th>Business Name</th>\n",
       "      <td>2</td>\n",
       "      <td>0</td>\n",
       "      <td>2</td>\n",
       "      <td>1.0</td>\n",
       "      <td>1.0</td>\n",
       "    </tr>\n",
       "    <tr>\n",
       "      <th>Industry</th>\n",
       "      <td>2</td>\n",
       "      <td>0</td>\n",
       "      <td>2</td>\n",
       "      <td>1.0</td>\n",
       "      <td>1.0</td>\n",
       "    </tr>\n",
       "    <tr>\n",
       "      <th>Certificate Number</th>\n",
       "      <td>2</td>\n",
       "      <td>0</td>\n",
       "      <td>2</td>\n",
       "      <td>1.0</td>\n",
       "      <td>1.0</td>\n",
       "    </tr>\n",
       "    <tr>\n",
       "      <th>Inspection Date</th>\n",
       "      <td>2</td>\n",
       "      <td>0</td>\n",
       "      <td>2</td>\n",
       "      <td>1.0</td>\n",
       "      <td>1.0</td>\n",
       "    </tr>\n",
       "    <tr>\n",
       "      <th>Inspection Result</th>\n",
       "      <td>2</td>\n",
       "      <td>0</td>\n",
       "      <td>1</td>\n",
       "      <td>0.5</td>\n",
       "      <td>0.0</td>\n",
       "    </tr>\n",
       "    <tr>\n",
       "      <th>Test Type</th>\n",
       "      <td>2</td>\n",
       "      <td>0</td>\n",
       "      <td>2</td>\n",
       "      <td>1.0</td>\n",
       "      <td>1.0</td>\n",
       "    </tr>\n",
       "    <tr>\n",
       "      <th>Approved</th>\n",
       "      <td>2</td>\n",
       "      <td>0</td>\n",
       "      <td>2</td>\n",
       "      <td>1.0</td>\n",
       "      <td>1.0</td>\n",
       "    </tr>\n",
       "    <tr>\n",
       "      <th>Condemned</th>\n",
       "      <td>2</td>\n",
       "      <td>0</td>\n",
       "      <td>2</td>\n",
       "      <td>1.0</td>\n",
       "      <td>1.0</td>\n",
       "    </tr>\n",
       "    <tr>\n",
       "      <th>Confiscated</th>\n",
       "      <td>2</td>\n",
       "      <td>0</td>\n",
       "      <td>1</td>\n",
       "      <td>0.5</td>\n",
       "      <td>0.0</td>\n",
       "    </tr>\n",
       "    <tr>\n",
       "      <th>Notes</th>\n",
       "      <td>2</td>\n",
       "      <td>2</td>\n",
       "      <td>0</td>\n",
       "      <td>NaN</td>\n",
       "      <td>NaN</td>\n",
       "    </tr>\n",
       "    <tr>\n",
       "      <th>Building Number</th>\n",
       "      <td>2</td>\n",
       "      <td>0</td>\n",
       "      <td>2</td>\n",
       "      <td>1.0</td>\n",
       "      <td>1.0</td>\n",
       "    </tr>\n",
       "    <tr>\n",
       "      <th>Street</th>\n",
       "      <td>2</td>\n",
       "      <td>0</td>\n",
       "      <td>2</td>\n",
       "      <td>1.0</td>\n",
       "      <td>1.0</td>\n",
       "    </tr>\n",
       "    <tr>\n",
       "      <th>City</th>\n",
       "      <td>2</td>\n",
       "      <td>0</td>\n",
       "      <td>2</td>\n",
       "      <td>1.0</td>\n",
       "      <td>1.0</td>\n",
       "    </tr>\n",
       "    <tr>\n",
       "      <th>State</th>\n",
       "      <td>2</td>\n",
       "      <td>0</td>\n",
       "      <td>1</td>\n",
       "      <td>0.5</td>\n",
       "      <td>0.0</td>\n",
       "    </tr>\n",
       "    <tr>\n",
       "      <th>Zip</th>\n",
       "      <td>2</td>\n",
       "      <td>0</td>\n",
       "      <td>2</td>\n",
       "      <td>1.0</td>\n",
       "      <td>1.0</td>\n",
       "    </tr>\n",
       "    <tr>\n",
       "      <th>Unit</th>\n",
       "      <td>2</td>\n",
       "      <td>2</td>\n",
       "      <td>0</td>\n",
       "      <td>NaN</td>\n",
       "      <td>NaN</td>\n",
       "    </tr>\n",
       "    <tr>\n",
       "      <th>Longitude</th>\n",
       "      <td>2</td>\n",
       "      <td>0</td>\n",
       "      <td>2</td>\n",
       "      <td>1.0</td>\n",
       "      <td>1.0</td>\n",
       "    </tr>\n",
       "    <tr>\n",
       "      <th>Latitude</th>\n",
       "      <td>2</td>\n",
       "      <td>0</td>\n",
       "      <td>2</td>\n",
       "      <td>1.0</td>\n",
       "      <td>1.0</td>\n",
       "    </tr>\n",
       "  </tbody>\n",
       "</table>\n",
       "</div>"
      ],
      "text/plain": [
       "                    total  empty  distinct  uniqueness  entropy\n",
       "Record ID               2      0         2         1.0      1.0\n",
       "Business Name           2      0         2         1.0      1.0\n",
       "Industry                2      0         2         1.0      1.0\n",
       "Certificate Number      2      0         2         1.0      1.0\n",
       "Inspection Date         2      0         2         1.0      1.0\n",
       "Inspection Result       2      0         1         0.5      0.0\n",
       "Test Type               2      0         2         1.0      1.0\n",
       "Approved                2      0         2         1.0      1.0\n",
       "Condemned               2      0         2         1.0      1.0\n",
       "Confiscated             2      0         1         0.5      0.0\n",
       "Notes                   2      2         0         NaN      NaN\n",
       "Building Number         2      0         2         1.0      1.0\n",
       "Street                  2      0         2         1.0      1.0\n",
       "City                    2      0         2         1.0      1.0\n",
       "State                   2      0         1         0.5      0.0\n",
       "Zip                     2      0         2         1.0      1.0\n",
       "Unit                    2      2         0         NaN      NaN\n",
       "Longitude               2      0         2         1.0      1.0\n",
       "Latitude                2      0         2         1.0      1.0"
      ]
     },
     "execution_count": 8,
     "metadata": {},
     "output_type": "execute_result"
    }
   ],
   "source": [
    "profiles.stats()"
   ]
  },
  {
   "cell_type": "code",
   "execution_count": 9,
   "metadata": {
    "colab": {
     "base_uri": "https://localhost:8080/"
    },
    "id": "REy3aMukrgi2",
    "outputId": "fc76ef70-a71b-4dac-d0e3-c8919cac0562"
   },
   "outputs": [
    {
     "data": {
      "text/plain": [
       "Record ID             0\n",
       "Business Name         0\n",
       "Industry              0\n",
       "Certificate Number    0\n",
       "Inspection Date       0\n",
       "Inspection Result     0\n",
       "Test Type             0\n",
       "Approved              0\n",
       "Condemned             0\n",
       "Confiscated           0\n",
       "Notes                 2\n",
       "Building Number       0\n",
       "Street                0\n",
       "City                  0\n",
       "State                 0\n",
       "Zip                   0\n",
       "Unit                  2\n",
       "Longitude             0\n",
       "Latitude              0\n",
       "Name: empty, dtype: int64"
      ]
     },
     "execution_count": 9,
     "metadata": {},
     "output_type": "execute_result"
    }
   ],
   "source": [
    "# Detect which column has empty value and its amount\n",
    "profiles.stats()['empty']"
   ]
  },
  {
   "cell_type": "code",
   "execution_count": 10,
   "metadata": {
    "colab": {
     "base_uri": "https://localhost:8080/",
     "height": 881
    },
    "id": "eWpR65wmsVgj",
    "outputId": "2556faa7-b14d-4d24-bf41-e6adc373c0b3"
   },
   "outputs": [
    {
     "data": {
      "text/html": [
       "<div>\n",
       "<style scoped>\n",
       "    .dataframe tbody tr th:only-of-type {\n",
       "        vertical-align: middle;\n",
       "    }\n",
       "\n",
       "    .dataframe tbody tr th {\n",
       "        vertical-align: top;\n",
       "    }\n",
       "\n",
       "    .dataframe thead th {\n",
       "        text-align: right;\n",
       "    }\n",
       "</style>\n",
       "<table border=\"1\" class=\"dataframe\">\n",
       "  <thead>\n",
       "    <tr style=\"text-align: right;\">\n",
       "      <th></th>\n",
       "      <th>int</th>\n",
       "      <th>str</th>\n",
       "    </tr>\n",
       "  </thead>\n",
       "  <tbody>\n",
       "    <tr>\n",
       "      <th>Certificate Number</th>\n",
       "      <td>1</td>\n",
       "      <td>1</td>\n",
       "    </tr>\n",
       "  </tbody>\n",
       "</table>\n",
       "</div>"
      ],
      "text/plain": [
       "                    int  str\n",
       "Certificate Number    1    1"
      ]
     },
     "execution_count": 10,
     "metadata": {},
     "output_type": "execute_result"
    }
   ],
   "source": [
    "# Check the inconsistent datatype\n",
    "# Now we can investigate the outliers issue in this dataset\n",
    "profiles.multitype_columns().types()"
   ]
  },
  {
   "cell_type": "markdown",
   "metadata": {
    "id": "sWG2dbqjFgyt"
   },
   "source": [
    "# Data Cleaning"
   ]
  },
  {
   "cell_type": "code",
   "execution_count": 11,
   "metadata": {
    "id": "KF-O9gaX5wD6"
   },
   "outputs": [],
   "source": [
    "from openclean.operator.transform.update import update\n",
    "from openclean.function.eval.base import Col\n",
    "from openclean.function.eval.datatype import IsDatetime\n",
    "from openclean.function.eval.null import IsEmpty\n",
    "from openclean.function.eval.null import IsNotEmpty\n",
    "from openclean.function.eval.datatype import IsInt\n",
    "from openclean.operator.transform.filter import filter\n",
    "from openclean.function.eval.datatype import IsFloat\n",
    "from openclean.function.eval.logic import And"
   ]
  },
  {
   "cell_type": "markdown",
   "metadata": {
    "id": "7Rr5DUTNHBtW"
   },
   "source": [
    "## Remove rows with empty/problematic values that are not possible to recover\n",
    "\n",
    "There are columns in this dataset that have empty or wrong values. Normally, we will try to recover the mnissing values. Yet, values in some columns are just not able to be infer from other values. In this case, we can only choose to remove those rows."
   ]
  },
  {
   "cell_type": "code",
   "execution_count": 12,
   "metadata": {},
   "outputs": [],
   "source": [
    "ds_Update = ds_Full"
   ]
  },
  {
   "cell_type": "markdown",
   "metadata": {
    "id": "I1mmeqiQIR5x"
   },
   "source": [
    "## Data Standardization\n",
    "\n",
    "In some case, different values may actually represent the same thing. For example, \"5th Avenue\" and \"Fifth AVE\" both point to \"5th AVE\". Thus, we need to standardize the data."
   ]
  },
  {
   "cell_type": "code",
   "execution_count": 13,
   "metadata": {
    "colab": {
     "base_uri": "https://localhost:8080/",
     "height": 102
    },
    "id": "i0wEh5W8N093",
    "outputId": "595dda27-14d7-4924-b2b3-30feb2821db3"
   },
   "outputs": [
    {
     "data": {
      "text/plain": [
       "'\\nfrom openclean.cluster.key import KeyCollision\\nfrom openclean_geo.address.usstreet import USStreetNameKey\\n\\nstreet_names = ds_Update.update(\\'street_name\\', str.upper).distinct(\\'street_name\\')\\nclusters = KeyCollision(func=USStreetNameKey(), threads=3).clusters(street_names)\\n\\ndef print_k_clusters(clusters, k=5):\\n    clusters = sorted(clusters, key=lambda x: len(x), reverse=True)\\n    val_count = sum([len(c) for c in clusters])\\n    print(\\'Total number of clusters is {} with {} values\\'.format(len(clusters), val_count))\\n    for i in range(min(k, len(clusters))):\\n        print(\\'\\nCluster {}\\'.format(i + 1))\\n        for key, cnt in clusters[i].items():\\n            if key == \\'\\':\\n                key = \"\\'\\'\"\\n            print(f\\'  {key} (x {cnt})\\')\\nprint_k_clusters(clusters)\\n'"
      ]
     },
     "execution_count": 13,
     "metadata": {},
     "output_type": "execute_result"
    }
   ],
   "source": [
    "# Street name is a example that needs to be standardized. \n",
    "# Uncomment the lines below and see the clustering of the street names.\n",
    "\n",
    "'''\n",
    "from openclean.cluster.key import KeyCollision\n",
    "from openclean_geo.address.usstreet import USStreetNameKey\n",
    "\n",
    "street_names = ds_Update.update('street_name', str.upper).distinct('street_name')\n",
    "clusters = KeyCollision(func=USStreetNameKey(), threads=3).clusters(street_names)\n",
    "\n",
    "def print_k_clusters(clusters, k=5):\n",
    "    clusters = sorted(clusters, key=lambda x: len(x), reverse=True)\n",
    "    val_count = sum([len(c) for c in clusters])\n",
    "    print('Total number of clusters is {} with {} values'.format(len(clusters), val_count))\n",
    "    for i in range(min(k, len(clusters))):\n",
    "        print('\\nCluster {}'.format(i + 1))\n",
    "        for key, cnt in clusters[i].items():\n",
    "            if key == '':\n",
    "                key = \"''\"\n",
    "            print(f'  {key} (x {cnt})')\n",
    "print_k_clusters(clusters)\n",
    "'''"
   ]
  },
  {
   "cell_type": "code",
   "execution_count": 14,
   "metadata": {
    "id": "RhgNhFInhuNd"
   },
   "outputs": [],
   "source": [
    "# Standardize the \"Street Name\"\n",
    "from openclean_geo.address.usstreet import StandardizeUSStreetName\n",
    "#ds_Update = ds_Update.update(columns=\"street_name\", func=StandardizeUSStreetName(characters='upper'))"
   ]
  },
  {
   "cell_type": "code",
   "execution_count": 15,
   "metadata": {
    "id": "RYYC0YpcKwZm"
   },
   "outputs": [],
   "source": [
    "# Fix \"Community - Board\" so the column has consistent format\n",
    "def fixCommunityBoard(num):\n",
    "  if len(num) == 1:\n",
    "    try:\n",
    "      if int(num) <= 5:\n",
    "        return num + '--'\n",
    "      else:\n",
    "        return '---'\n",
    "    except:\n",
    "      return '---'\n",
    "  elif len(num) == 3:\n",
    "    try:\n",
    "      if int(num) <= 5:\n",
    "        return str(int(num)) + '--'\n",
    "      elif int(num) < 100:\n",
    "        return '---'\n",
    "      return num\n",
    "    except:\n",
    "      return '---'\n",
    "  return '---'\n",
    "\n",
    "ds_Test = ds_Update.update(columns=\"community_board\", func=fixCommunityBoard)"
   ]
  },
  {
   "cell_type": "code",
   "execution_count": 16,
   "metadata": {
    "id": "J64y-0Ku2ofW"
   },
   "outputs": [],
   "source": [
    "# There are some rows that use \"X\" for positive representation and empty for negative representation.\n",
    "# We decided to standardize them to \"Y\" and \"N\" where \"Y\" for positive and \"N\" for negative.\n",
    "def fixYN(x):\n",
    "  if x == 'X' or x == 'Y' or x == 'YES':\n",
    "    return 'Y'\n",
    "  return 'N'\n",
    "\n",
    "\n",
    "# The column \"Cluster\" has similar problem.\n",
    "def insertN(x):\n",
    "  if x not in ['Y', 'N']:\n",
    "    return 'N'\n",
    "  return x\n",
    "\n",
    "\n",
    "#some column has empty value where should be \"NONE\"\n",
    "def insertNone(x):\n",
    "    if x == '':\n",
    "        return 'NONE'\n",
    "\n",
    "    "
   ]
  },
  {
   "cell_type": "markdown",
   "metadata": {
    "id": "GInNJw2WMbq8"
   },
   "source": [
    "## Fix characters\n",
    "\n",
    "There are some weird typo in the dataset. For example, in numeric values, what should be \"0\" is replaced by \"O\". We also want to deal with those problems."
   ]
  },
  {
   "cell_type": "code",
   "execution_count": 17,
   "metadata": {
    "id": "o0hzkVCi4SaK"
   },
   "outputs": [],
   "source": [
    "# Fix the characters in \"Block\" and \"Lot\" that actually represent \"0\"\n",
    "def fixNum(num):\n",
    "  if num.isdigit():\n",
    "    return num\n",
    "  res = \"\"\n",
    "  for c in num:\n",
    "    if c.isdigit():\n",
    "      res += c\n",
    "    elif c in ['O', '.', '-']:\n",
    "      res += '0'\n",
    "  return res\n",
    "\n",
    "#ds_Update = ds_Update.update(columns=\"block\", func=fixNum)\n",
    "#ds_Update = ds_Update.update(columns=\"lot\", func=fixNum)"
   ]
  },
  {
   "cell_type": "markdown",
   "metadata": {
    "id": "EF5RXyTRRSiZ"
   },
   "source": [
    "# Correct misspelled city name\n",
    "In the \"City \" column, some cities' name are misspelled. Take BROOKLYN for example, some values maight be like BROKKLYN, BROOLKYN,...,etc. Therefore, we use soundex() to find the misspelled city names and correct them with the matching city name."
   ]
  },
  {
   "cell_type": "code",
   "execution_count": 18,
   "metadata": {
    "colab": {
     "base_uri": "https://localhost:8080/"
    },
    "id": "Rq2eNKATR3ez",
    "outputId": "090ba012-5083-424b-ca86-233c30349683"
   },
   "outputs": [
    {
     "data": {
      "text/plain": [
       "Counter({'BRONX': 1, 'BROOKLYN': 1})"
      ]
     },
     "execution_count": 18,
     "metadata": {},
     "output_type": "execute_result"
    }
   ],
   "source": [
    "ds_Update.select('City').distinct()"
   ]
  },
  {
   "cell_type": "code",
   "execution_count": 19,
   "metadata": {
    "id": "zRkfyoiqR54Y"
   },
   "outputs": [],
   "source": [
    "from openclean.function.eval.base import Col, Eval\n",
    "from openclean.function.eval.logic import And\n",
    "from openclean.function.value.phonetic import Soundex, soundex\n",
    "\n",
    "ds_Update = ds_Update.update('City', str.upper)"
   ]
  },
  {
   "cell_type": "code",
   "execution_count": 20,
   "metadata": {},
   "outputs": [],
   "source": [
    "# Fix the name of Brooklyn\n",
    "def fixBrooklyn(name):\n",
    "    if soundex(name)==soundex(\"BROOKLYN\"):\n",
    "        name=\"BROOKLYN\"\n",
    "    return name\n",
    "\n",
    "ds_Update = ds_Update.update(columns=\"City\", func=fixBrooklyn)"
   ]
  },
  {
   "cell_type": "code",
   "execution_count": 21,
   "metadata": {
    "id": "_xdPwEB4SJSa"
   },
   "outputs": [],
   "source": [
    "# Fix the name of Long Island City\n",
    "def fixLongIslandCity(name):\n",
    "  if soundex(name)==soundex(\"LONG ISLAND CITY\"):\n",
    "    name=\"LONG ISLAND CITY\"\n",
    "  return name\n",
    "\n",
    "ds_Update = ds_Update.update(columns=\"City\", func=fixLongIslandCity)"
   ]
  },
  {
   "cell_type": "code",
   "execution_count": 22,
   "metadata": {
    "id": "nHxArqviSTrB"
   },
   "outputs": [],
   "source": [
    "#Fix the name of Bronx\n",
    "def fixBronx(name):\n",
    "  if soundex(name)==soundex(\"BRONX\"):\n",
    "    name=\"BRONX\"\n",
    "  return name\n",
    "\n",
    "ds_Update = ds_Update.update(columns=\"City\", func=fixBronx)"
   ]
  },
  {
   "cell_type": "code",
   "execution_count": 23,
   "metadata": {
    "id": "GMRbMT3vScwA"
   },
   "outputs": [],
   "source": [
    "#Fix the name of Manahttan\n",
    "def fixManhattan(name):\n",
    "  if soundex(name)==soundex(\"MANHATTAN\"):\n",
    "    name=\"MANHATTAN\"\n",
    "  return name\n",
    "\n",
    "ds_Update = ds_Update.update(columns=\"City\", func=fixManhattan)"
   ]
  },
  {
   "cell_type": "code",
   "execution_count": 24,
   "metadata": {},
   "outputs": [],
   "source": [
    "#Fix the name of New York\n",
    "def fixNewYork(name):\n",
    "    if soundex(name)==soundex(\"NEW YORK\"):\n",
    "        name=\"NEW YORK\"\n",
    "    return name\n",
    "\n",
    "ds_Update = ds_Update.update(columns=\"City\", func=fixNewYork)    "
   ]
  },
  {
   "cell_type": "code",
   "execution_count": 25,
   "metadata": {},
   "outputs": [],
   "source": [
    "def fixFlushing(name):\n",
    "    if soundex(name)==soundex(\"FLUSHING\"):\n",
    "        name=\"FLUSHING\"\n",
    "    return name\n",
    "ds_Update = ds_Update.update(columns=\"City\", func=fixFlushing)"
   ]
  },
  {
   "cell_type": "code",
   "execution_count": 26,
   "metadata": {},
   "outputs": [],
   "source": [
    "ds_Update = ds_Update.to_df()\n",
    "ds_Update.to_csv('./8fei-z6rz_program_modify.csv', encoding='utf-8', index=False)"
   ]
  },
  {
   "cell_type": "code",
   "execution_count": null,
   "metadata": {},
   "outputs": [],
   "source": []
  }
 ],
 "metadata": {
  "colab": {
   "collapsed_sections": [],
   "name": "Group 11 - Data Profiling and Cleaning_Submit.ipynb",
   "provenance": []
  },
  "kernelspec": {
   "display_name": "Python 3 (ipykernel)",
   "language": "python",
   "name": "python3"
  },
  "language_info": {
   "codemirror_mode": {
    "name": "ipython",
    "version": 3
   },
   "file_extension": ".py",
   "mimetype": "text/x-python",
   "name": "python",
   "nbconvert_exporter": "python",
   "pygments_lexer": "ipython3",
   "version": "3.9.7"
  }
 },
 "nbformat": 4,
 "nbformat_minor": 1
}
