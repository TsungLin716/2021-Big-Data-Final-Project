{
 "cells": [
  {
   "cell_type": "code",
   "execution_count": 1,
   "metadata": {},
   "outputs": [],
   "source": [
    "import pandas as pd\n",
    "\n",
    "rawData = 'raw.csv'\n",
    "groundTruth = 'groundTruth.csv'\n",
    "improvedFixedData = 'improved_result.csv'\n",
    "unimprovedFixedData = 'unimproved_result.csv'\n",
    "\n",
    "columns = [\n",
    "    'city_name', \n",
    "    'street_name', \n",
    "#     'block', \n",
    "#     'lot', \n",
    "#     'community_board'\n",
    "]\n"
   ]
  },
  {
   "cell_type": "code",
   "execution_count": 2,
   "metadata": {},
   "outputs": [],
   "source": [
    "def getFixedNum(rawCol, fixedCol):\n",
    "    num = 0\n",
    "    for i, e in enumerate(rawCol):\n",
    "        if not pd.isna(e):\n",
    "            if e != fixedCol[i]:\n",
    "                num += 1\n",
    "    return num\n",
    "\n",
    "def getCorrectlyFixedNum(gtCol, fixedCol, rawCol):\n",
    "    num = 0\n",
    "    for i, e in enumerate(gtCol):\n",
    "        if not pd.isna(e):\n",
    "            if e == rawCol[i]: continue\n",
    "            elif e == fixedCol[i]:\n",
    "                num += 1\n",
    "    return num"
   ]
  },
  {
   "cell_type": "code",
   "execution_count": 3,
   "metadata": {},
   "outputs": [],
   "source": [
    "raw_DF = pd.read_csv(rawData, header=0)\n",
    "improved_DF = pd.read_csv(improvedFixedData, header=0)\n",
    "unimproved_DF = pd.read_csv(unimprovedFixedData, header=0)\n",
    "groundTruth_DF = pd.read_csv(groundTruth, header=0)"
   ]
  },
  {
   "cell_type": "code",
   "execution_count": 4,
   "metadata": {},
   "outputs": [
    {
     "name": "stdout",
     "output_type": "stream",
     "text": [
      "CITY NAME Unimproved:\n",
      "Precision: 1.0\n",
      "Recall: 0.1891891891891892\n",
      "\n",
      "\n",
      "CITY NAME Improved:\n",
      "Precision: 0.7555555555555555\n",
      "Recall: 0.918918918918919\n",
      "\n",
      "\n",
      "STREET NAME Unimproved:\n",
      "Precision: 0.9171597633136095\n",
      "Recall: 0.9281437125748503\n",
      "\n",
      "\n",
      "STREET NAME Improved:\n",
      "Precision: 0.9585798816568047\n",
      "Recall: 0.9700598802395209\n",
      "\n",
      "\n"
     ]
    }
   ],
   "source": [
    "for column in columns:\n",
    "    # /// Calculate and print the unimproved result. ///\n",
    "    # Number of all records fixed by manual inspection (regarded as ground truth)\n",
    "    numRFMI = getFixedNum(raw_DF[column].to_list(), groundTruth_DF[column].to_list())\n",
    "    # Number of all records fixed by program\n",
    "    numRFP = getFixedNum(raw_DF[column].to_list(), unimproved_DF[column].to_list())\n",
    "    # Number of records correctly fixed by program\n",
    "    numRCFP = getCorrectlyFixedNum(groundTruth_DF[column].to_list(), unimproved_DF[column].to_list(), raw_DF[column].to_list())\n",
    "    \n",
    "    print(column.replace('_', ' ').upper() + \" Unimproved:\")\n",
    "    print(\"Precision: \" + str(numRCFP / numRFP))\n",
    "    print(\"Recall: \" + str(numRCFP / numRFMI))\n",
    "    print('\\n')\n",
    "    \n",
    "    # /// Calculate and print the improved result. ///\n",
    "    # Number of all records fixed by manual inspection (regarded as ground truth)\n",
    "    numRFMI = getFixedNum(raw_DF[column].to_list(), groundTruth_DF[column].to_list())\n",
    "    # Number of all records fixed by program\n",
    "    numRFP = getFixedNum(raw_DF[column].to_list(), improved_DF[column].to_list())\n",
    "    # Number of records correctly fixed by program\n",
    "    numRCFP = getCorrectlyFixedNum(groundTruth_DF[column].to_list(), improved_DF[column].to_list(), raw_DF[column].to_list())\n",
    "    \n",
    "    print(column.replace('_', ' ').upper() + \" Improved:\")\n",
    "    print(\"Precision: \" + str(numRCFP / numRFP))\n",
    "    print(\"Recall: \" + str(numRCFP / numRFMI))\n",
    "    print('\\n')"
   ]
  },
  {
   "cell_type": "code",
   "execution_count": 7,
   "metadata": {},
   "outputs": [],
   "source": [
    "idGT = set()\n",
    "idIm = set()\n",
    "idUn = set()\n",
    "for i in range(groundTruth_DF.shape[0]):\n",
    "    raw = raw_DF.at[i, 'street_name']\n",
    "    if groundTruth_DF.at[i, 'street_name'] != raw:\n",
    "        idIm.add(i)\n",
    "    if improved_DF.at[i, 'street_name'] != raw:\n",
    "        idGT.add(i)\n",
    "    if unimproved_DF.at[i, 'street_name'] != raw:\n",
    "        idUn.add(i)"
   ]
  },
  {
   "cell_type": "code",
   "execution_count": 12,
   "metadata": {},
   "outputs": [
    {
     "data": {
      "text/plain": [
       "{84, 209, 259, 278}"
      ]
     },
     "execution_count": 12,
     "metadata": {},
     "output_type": "execute_result"
    }
   ],
   "source": [
    "idGT.difference(idIm)"
   ]
  },
  {
   "cell_type": "code",
   "execution_count": 13,
   "metadata": {},
   "outputs": [
    {
     "data": {
      "text/plain": [
       "set()"
      ]
     },
     "execution_count": 13,
     "metadata": {},
     "output_type": "execute_result"
    }
   ],
   "source": [
    "idIm.difference(idUn)"
   ]
  },
  {
   "cell_type": "code",
   "execution_count": 14,
   "metadata": {},
   "outputs": [
    {
     "data": {
      "text/plain": [
       "set()"
      ]
     },
     "execution_count": 14,
     "metadata": {},
     "output_type": "execute_result"
    }
   ],
   "source": [
    "idGT.difference(idUn)"
   ]
  },
  {
   "cell_type": "code",
   "execution_count": 16,
   "metadata": {},
   "outputs": [
    {
     "data": {
      "text/plain": [
       "{84, 209, 259, 278}"
      ]
     },
     "execution_count": 16,
     "metadata": {},
     "output_type": "execute_result"
    }
   ],
   "source": [
    "idUn.difference(idIm)"
   ]
  },
  {
   "cell_type": "code",
   "execution_count": 21,
   "metadata": {},
   "outputs": [
    {
     "data": {
      "text/plain": [
       "335"
      ]
     },
     "execution_count": 21,
     "metadata": {},
     "output_type": "execute_result"
    }
   ],
   "source": [
    "len(idIm)"
   ]
  },
  {
   "cell_type": "code",
   "execution_count": 22,
   "metadata": {},
   "outputs": [
    {
     "data": {
      "text/plain": [
       "339"
      ]
     },
     "execution_count": 22,
     "metadata": {},
     "output_type": "execute_result"
    }
   ],
   "source": [
    "len(idUn)"
   ]
  },
  {
   "cell_type": "code",
   "execution_count": 23,
   "metadata": {},
   "outputs": [
    {
     "data": {
      "text/plain": [
       "339"
      ]
     },
     "execution_count": 23,
     "metadata": {},
     "output_type": "execute_result"
    }
   ],
   "source": [
    "len(idGT)"
   ]
  },
  {
   "cell_type": "code",
   "execution_count": null,
   "metadata": {},
   "outputs": [],
   "source": []
  }
 ],
 "metadata": {
  "kernelspec": {
   "display_name": "Python 3",
   "language": "python",
   "name": "python3"
  },
  "language_info": {
   "codemirror_mode": {
    "name": "ipython",
    "version": 3
   },
   "file_extension": ".py",
   "mimetype": "text/x-python",
   "name": "python",
   "nbconvert_exporter": "python",
   "pygments_lexer": "ipython3",
   "version": "3.7.7"
  }
 },
 "nbformat": 4,
 "nbformat_minor": 4
}
