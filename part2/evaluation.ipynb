{
  "nbformat": 4,
  "nbformat_minor": 0,
  "metadata": {
    "colab": {
      "name": "Untitled2.ipynb",
      "provenance": []
    },
    "kernelspec": {
      "name": "python3",
      "display_name": "Python 3"
    },
    "language_info": {
      "name": "python"
    }
  },
  "cells": [
    {
      "cell_type": "code",
      "execution_count": 1,
      "metadata": {
        "id": "6N0ka5eLRkID"
      },
      "outputs": [],
      "source": [
        "import pandas as pd\n",
        "\n",
        "rawData = 'raw.csv'\n",
        "groundTruth = 'groundTruth.csv'\n",
        "improvedFixedData = 'improved_result.csv'\n",
        "unimprovedFixedData = 'unimproved_result.csv'\n",
        "\n",
        "columns = [\n",
        "    'city_name', \n",
        "    'street_name'\n",
        "]"
      ]
    },
    {
      "cell_type": "code",
      "source": [
        "def getFixedNum(rawCol, fixedCol):\n",
        "    num = 0\n",
        "    for i, e in enumerate(rawCol):\n",
        "        if not pd.isna(e):\n",
        "            if e != fixedCol[i]:\n",
        "                num += 1\n",
        "    return num\n",
        "\n",
        "def getCorrectlyFixedNum(gtCol, fixedCol, rawCol):\n",
        "    num = 0\n",
        "    for i, e in enumerate(gtCol):\n",
        "        if not pd.isna(e):\n",
        "            if e == rawCol[i]: continue\n",
        "            elif e == fixedCol[i]:\n",
        "                num += 1\n",
        "    return num"
      ],
      "metadata": {
        "id": "XIue0AbtRoxl"
      },
      "execution_count": 2,
      "outputs": []
    },
    {
      "cell_type": "code",
      "source": [
        "raw_DF = pd.read_csv(rawData, header=0)\n",
        "improved_DF = pd.read_csv(improvedFixedData, header=0)\n",
        "unimproved_DF = pd.read_csv(unimprovedFixedData, header=0)\n",
        "groundTruth_DF = pd.read_csv(groundTruth, header=0)"
      ],
      "metadata": {
        "id": "h98wHedGRuiO"
      },
      "execution_count": 3,
      "outputs": []
    },
    {
      "cell_type": "code",
      "source": [
        "for column in columns:\n",
        "    # /// Calculate and print the unimproved result. ///\n",
        "    # Number of all records fixed by manual inspection (regarded as ground truth)\n",
        "    numRFMI = getFixedNum(raw_DF[column].to_list(), groundTruth_DF[column].to_list())\n",
        "    # Number of all records fixed by program\n",
        "    numRFP = getFixedNum(raw_DF[column].to_list(), unimproved_DF[column].to_list())\n",
        "    # Number of records correctly fixed by program\n",
        "    numRCFP = getCorrectlyFixedNum(groundTruth_DF[column].to_list(), unimproved_DF[column].to_list(), raw_DF[column].to_list())\n",
        "    \n",
        "    print(column.replace('_', ' ').upper() + \" Unimproved:\")\n",
        "    print(\"Precision: \" + str(numRCFP / numRFP))\n",
        "    print(\"Recall: \" + str(numRCFP / numRFMI))\n",
        "    print('\\n')\n",
        "    \n",
        "    # /// Calculate and print the improved result. ///\n",
        "    # Number of all records fixed by manual inspection (regarded as ground truth)\n",
        "    numRFMI = getFixedNum(raw_DF[column].to_list(), groundTruth_DF[column].to_list())\n",
        "    # Number of all records fixed by program\n",
        "    numRFP = getFixedNum(raw_DF[column].to_list(), improved_DF[column].to_list())\n",
        "    # Number of records correctly fixed by program\n",
        "    numRCFP = getCorrectlyFixedNum(groundTruth_DF[column].to_list(), improved_DF[column].to_list(), raw_DF[column].to_list())\n",
        "    \n",
        "    print(column.replace('_', ' ').upper() + \" Improved:\")\n",
        "    print(\"Precision: \" + str(numRCFP / numRFP))\n",
        "    print(\"Recall: \" + str(numRCFP / numRFMI))\n",
        "    print('\\n')"
      ],
      "metadata": {
        "colab": {
          "base_uri": "https://localhost:8080/"
        },
        "id": "LElN7bqBRwNG",
        "outputId": "773024b9-2832-4c54-952e-6328d0e47c65"
      },
      "execution_count": 4,
      "outputs": [
        {
          "output_type": "stream",
          "name": "stdout",
          "text": [
            "CITY NAME Unimproved:\n",
            "Precision: 1.0\n",
            "Recall: 0.18421052631578946\n",
            "\n",
            "\n",
            "CITY NAME Improved:\n",
            "Precision: 0.8157894736842105\n",
            "Recall: 0.8157894736842105\n",
            "\n",
            "\n",
            "STREET NAME Unimproved:\n",
            "Precision: 0.9171597633136095\n",
            "Recall: 0.9281437125748503\n",
            "\n",
            "\n",
            "STREET NAME Improved:\n",
            "Precision: 0.9585798816568047\n",
            "Recall: 0.9700598802395209\n",
            "\n",
            "\n"
          ]
        }
      ]
    }
  ]
}